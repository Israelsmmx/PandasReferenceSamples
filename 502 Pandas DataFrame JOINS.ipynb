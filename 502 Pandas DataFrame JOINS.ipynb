{
 "cells": [
  {
   "cell_type": "markdown",
   "id": "23e3c449-266c-47f4-86d0-431f6a7894cc",
   "metadata": {},
   "source": [
    "# JOINS WITH PANDAS (MERGES)\n",
    "\n",
    "@autor Israel Sanchez"
   ]
  },
  {
   "cell_type": "code",
   "execution_count": 1,
   "id": "6b8f5080-2bc7-4b8b-a9bb-9b4775d2547a",
   "metadata": {},
   "outputs": [],
   "source": [
    "# importing the module\n",
    "import pandas as pd\n",
    "  \n"
   ]
  },
  {
   "cell_type": "markdown",
   "id": "646761f0-2e08-4f69-84e2-fdb42ad239f3",
   "metadata": {},
   "source": [
    "# Sample 1"
   ]
  },
  {
   "cell_type": "code",
   "execution_count": 2,
   "id": "532dbfe3-a887-40f4-932e-41cc2a00ee22",
   "metadata": {},
   "outputs": [
    {
     "data": {
      "text/plain": [
       "'The first DataFrame'"
      ]
     },
     "metadata": {},
     "output_type": "display_data"
    },
    {
     "data": {
      "text/html": [
       "<div>\n",
       "<style scoped>\n",
       "    .dataframe tbody tr th:only-of-type {\n",
       "        vertical-align: middle;\n",
       "    }\n",
       "\n",
       "    .dataframe tbody tr th {\n",
       "        vertical-align: top;\n",
       "    }\n",
       "\n",
       "    .dataframe thead th {\n",
       "        text-align: right;\n",
       "    }\n",
       "</style>\n",
       "<table border=\"1\" class=\"dataframe\">\n",
       "  <thead>\n",
       "    <tr style=\"text-align: right;\">\n",
       "      <th></th>\n",
       "      <th>fruit</th>\n",
       "      <th>market_price</th>\n",
       "    </tr>\n",
       "  </thead>\n",
       "  <tbody>\n",
       "    <tr>\n",
       "      <th>0</th>\n",
       "      <td>apple</td>\n",
       "      <td>21</td>\n",
       "    </tr>\n",
       "    <tr>\n",
       "      <th>1</th>\n",
       "      <td>banana</td>\n",
       "      <td>14</td>\n",
       "    </tr>\n",
       "    <tr>\n",
       "      <th>2</th>\n",
       "      <td>avocado</td>\n",
       "      <td>35</td>\n",
       "    </tr>\n",
       "  </tbody>\n",
       "</table>\n",
       "</div>"
      ],
      "text/plain": [
       "     fruit  market_price\n",
       "0    apple            21\n",
       "1   banana            14\n",
       "2  avocado            35"
      ]
     },
     "metadata": {},
     "output_type": "display_data"
    }
   ],
   "source": [
    "# creating the first DataFrame\n",
    "df1 = pd.DataFrame({\"fruit\" : [\"apple\", \"banana\", \"avocado\"],\n",
    "                    \"market_price\" : [21, 14, 35]})\n",
    "display(\"The first DataFrame\")\n",
    "display(df1)\n",
    "  \n"
   ]
  },
  {
   "cell_type": "markdown",
   "id": "01c19204-b570-4c89-aa35-a15397290f56",
   "metadata": {},
   "source": [
    "## inner uses Fruit to join both dataframes"
   ]
  },
  {
   "cell_type": "code",
   "execution_count": 4,
   "id": "c1b6179b-df38-421d-9d7b-eb629dbd2701",
   "metadata": {},
   "outputs": [
    {
     "data": {
      "text/plain": [
       "'The second DataFrame'"
      ]
     },
     "metadata": {},
     "output_type": "display_data"
    },
    {
     "data": {
      "text/html": [
       "<div>\n",
       "<style scoped>\n",
       "    .dataframe tbody tr th:only-of-type {\n",
       "        vertical-align: middle;\n",
       "    }\n",
       "\n",
       "    .dataframe tbody tr th {\n",
       "        vertical-align: top;\n",
       "    }\n",
       "\n",
       "    .dataframe thead th {\n",
       "        text-align: right;\n",
       "    }\n",
       "</style>\n",
       "<table border=\"1\" class=\"dataframe\">\n",
       "  <thead>\n",
       "    <tr style=\"text-align: right;\">\n",
       "      <th></th>\n",
       "      <th>fruit</th>\n",
       "      <th>wholesaler_price</th>\n",
       "    </tr>\n",
       "  </thead>\n",
       "  <tbody>\n",
       "    <tr>\n",
       "      <th>0</th>\n",
       "      <td>banana</td>\n",
       "      <td>65</td>\n",
       "    </tr>\n",
       "    <tr>\n",
       "      <th>1</th>\n",
       "      <td>apple</td>\n",
       "      <td>68</td>\n",
       "    </tr>\n",
       "    <tr>\n",
       "      <th>2</th>\n",
       "      <td>avocado</td>\n",
       "      <td>75</td>\n",
       "    </tr>\n",
       "  </tbody>\n",
       "</table>\n",
       "</div>"
      ],
      "text/plain": [
       "     fruit  wholesaler_price\n",
       "0   banana                65\n",
       "1    apple                68\n",
       "2  avocado                75"
      ]
     },
     "metadata": {},
     "output_type": "display_data"
    },
    {
     "data": {
      "text/html": [
       "<div>\n",
       "<style scoped>\n",
       "    .dataframe tbody tr th:only-of-type {\n",
       "        vertical-align: middle;\n",
       "    }\n",
       "\n",
       "    .dataframe tbody tr th {\n",
       "        vertical-align: top;\n",
       "    }\n",
       "\n",
       "    .dataframe thead th {\n",
       "        text-align: right;\n",
       "    }\n",
       "</style>\n",
       "<table border=\"1\" class=\"dataframe\">\n",
       "  <thead>\n",
       "    <tr style=\"text-align: right;\">\n",
       "      <th></th>\n",
       "      <th>fruit</th>\n",
       "      <th>market_price</th>\n",
       "    </tr>\n",
       "  </thead>\n",
       "  <tbody>\n",
       "    <tr>\n",
       "      <th>0</th>\n",
       "      <td>apple</td>\n",
       "      <td>21</td>\n",
       "    </tr>\n",
       "    <tr>\n",
       "      <th>1</th>\n",
       "      <td>banana</td>\n",
       "      <td>14</td>\n",
       "    </tr>\n",
       "    <tr>\n",
       "      <th>2</th>\n",
       "      <td>avocado</td>\n",
       "      <td>35</td>\n",
       "    </tr>\n",
       "  </tbody>\n",
       "</table>\n",
       "</div>"
      ],
      "text/plain": [
       "     fruit  market_price\n",
       "0    apple            21\n",
       "1   banana            14\n",
       "2  avocado            35"
      ]
     },
     "metadata": {},
     "output_type": "display_data"
    },
    {
     "data": {
      "text/plain": [
       "'The merged DataFrame'"
      ]
     },
     "metadata": {},
     "output_type": "display_data"
    },
    {
     "data": {
      "text/html": [
       "<div>\n",
       "<style scoped>\n",
       "    .dataframe tbody tr th:only-of-type {\n",
       "        vertical-align: middle;\n",
       "    }\n",
       "\n",
       "    .dataframe tbody tr th {\n",
       "        vertical-align: top;\n",
       "    }\n",
       "\n",
       "    .dataframe thead th {\n",
       "        text-align: right;\n",
       "    }\n",
       "</style>\n",
       "<table border=\"1\" class=\"dataframe\">\n",
       "  <thead>\n",
       "    <tr style=\"text-align: right;\">\n",
       "      <th></th>\n",
       "      <th>fruit</th>\n",
       "      <th>market_price</th>\n",
       "      <th>wholesaler_price</th>\n",
       "    </tr>\n",
       "  </thead>\n",
       "  <tbody>\n",
       "    <tr>\n",
       "      <th>0</th>\n",
       "      <td>apple</td>\n",
       "      <td>21</td>\n",
       "      <td>68</td>\n",
       "    </tr>\n",
       "    <tr>\n",
       "      <th>1</th>\n",
       "      <td>banana</td>\n",
       "      <td>14</td>\n",
       "      <td>65</td>\n",
       "    </tr>\n",
       "    <tr>\n",
       "      <th>2</th>\n",
       "      <td>avocado</td>\n",
       "      <td>35</td>\n",
       "      <td>75</td>\n",
       "    </tr>\n",
       "  </tbody>\n",
       "</table>\n",
       "</div>"
      ],
      "text/plain": [
       "     fruit  market_price  wholesaler_price\n",
       "0    apple            21                68\n",
       "1   banana            14                65\n",
       "2  avocado            35                75"
      ]
     },
     "execution_count": 4,
     "metadata": {},
     "output_type": "execute_result"
    }
   ],
   "source": [
    "# creating the second DataFrame\n",
    "df2 = pd.DataFrame({\"fruit\" : [\"banana\", \"apple\", \"avocado\"],\n",
    "                    \"wholesaler_price\" : [65, 68, 75]})\n",
    "display(\"The second DataFrame\")\n",
    "display(df2)\n",
    "display(df1)\n",
    "  \n",
    "# joining the DataFrames\n",
    "display(\"The merged DataFrame\")\n",
    "pd.merge(df1, df2, on = \"fruit\", how = \"inner\")"
   ]
  },
  {
   "cell_type": "markdown",
   "id": "857a1f6c-9016-4e9f-be75-8d25a1d6b268",
   "metadata": {},
   "source": [
    "# Sample 2"
   ]
  },
  {
   "cell_type": "code",
   "execution_count": 23,
   "id": "d6218232-fdcd-46fa-91b2-2b7b6dba1f09",
   "metadata": {},
   "outputs": [],
   "source": [
    "  \n",
    "# creating the first DataFrame\n",
    "df1 = pd.DataFrame({\"fruit\" : [\"apple\", \"banana\", \n",
    "                               \"avocado\", \"grape\"],\n",
    "                    \"market_price\" : [21, 14, 35, 38]})"
   ]
  },
  {
   "cell_type": "markdown",
   "id": "fa52e8af-b3b4-4ab6-8028-5fe552a70469",
   "metadata": {},
   "source": [
    "## join *outer* ignore records that dont match on the join "
   ]
  },
  {
   "cell_type": "code",
   "execution_count": 17,
   "id": "7103398d-55d4-4279-b55f-39cc7c723edf",
   "metadata": {},
   "outputs": [
    {
     "data": {
      "text/plain": [
       "'The first DataFrame'"
      ]
     },
     "metadata": {},
     "output_type": "display_data"
    },
    {
     "data": {
      "text/html": [
       "<div>\n",
       "<style scoped>\n",
       "    .dataframe tbody tr th:only-of-type {\n",
       "        vertical-align: middle;\n",
       "    }\n",
       "\n",
       "    .dataframe tbody tr th {\n",
       "        vertical-align: top;\n",
       "    }\n",
       "\n",
       "    .dataframe thead th {\n",
       "        text-align: right;\n",
       "    }\n",
       "</style>\n",
       "<table border=\"1\" class=\"dataframe\">\n",
       "  <thead>\n",
       "    <tr style=\"text-align: right;\">\n",
       "      <th></th>\n",
       "      <th>fruit</th>\n",
       "      <th>market_price</th>\n",
       "    </tr>\n",
       "  </thead>\n",
       "  <tbody>\n",
       "    <tr>\n",
       "      <th>0</th>\n",
       "      <td>apple</td>\n",
       "      <td>21</td>\n",
       "    </tr>\n",
       "    <tr>\n",
       "      <th>1</th>\n",
       "      <td>banana</td>\n",
       "      <td>14</td>\n",
       "    </tr>\n",
       "    <tr>\n",
       "      <th>2</th>\n",
       "      <td>avocado</td>\n",
       "      <td>35</td>\n",
       "    </tr>\n",
       "    <tr>\n",
       "      <th>3</th>\n",
       "      <td>grape</td>\n",
       "      <td>38</td>\n",
       "    </tr>\n",
       "  </tbody>\n",
       "</table>\n",
       "</div>"
      ],
      "text/plain": [
       "     fruit  market_price\n",
       "0    apple            21\n",
       "1   banana            14\n",
       "2  avocado            35\n",
       "3    grape            38"
      ]
     },
     "metadata": {},
     "output_type": "display_data"
    },
    {
     "data": {
      "text/plain": [
       "'The second DataFrame'"
      ]
     },
     "metadata": {},
     "output_type": "display_data"
    },
    {
     "data": {
      "text/html": [
       "<div>\n",
       "<style scoped>\n",
       "    .dataframe tbody tr th:only-of-type {\n",
       "        vertical-align: middle;\n",
       "    }\n",
       "\n",
       "    .dataframe tbody tr th {\n",
       "        vertical-align: top;\n",
       "    }\n",
       "\n",
       "    .dataframe thead th {\n",
       "        text-align: right;\n",
       "    }\n",
       "</style>\n",
       "<table border=\"1\" class=\"dataframe\">\n",
       "  <thead>\n",
       "    <tr style=\"text-align: right;\">\n",
       "      <th></th>\n",
       "      <th>fruit</th>\n",
       "      <th>wholesaler_price</th>\n",
       "    </tr>\n",
       "  </thead>\n",
       "  <tbody>\n",
       "    <tr>\n",
       "      <th>0</th>\n",
       "      <td>apple</td>\n",
       "      <td>65</td>\n",
       "    </tr>\n",
       "    <tr>\n",
       "      <th>1</th>\n",
       "      <td>banana</td>\n",
       "      <td>68</td>\n",
       "    </tr>\n",
       "    <tr>\n",
       "      <th>2</th>\n",
       "      <td>grape</td>\n",
       "      <td>71</td>\n",
       "    </tr>\n",
       "  </tbody>\n",
       "</table>\n",
       "</div>"
      ],
      "text/plain": [
       "    fruit  wholesaler_price\n",
       "0   apple                65\n",
       "1  banana                68\n",
       "2   grape                71"
      ]
     },
     "metadata": {},
     "output_type": "display_data"
    }
   ],
   "source": [
    "display(\"The first DataFrame\")\n",
    "display(df1)  \n",
    "# creating the second DataFrame\n",
    "df2 = pd.DataFrame({\"fruit\" : [\"apple\", \"banana\", \"grape\"],\n",
    "                    \"wholesaler_price\" : [65, 68, 71]})\n",
    "display(\"The second DataFrame\")\n",
    "display(df2)\n"
   ]
  },
  {
   "cell_type": "markdown",
   "id": "1859db40-a780-4079-9831-cabfb1e14d35",
   "metadata": {},
   "source": [
    "## outer"
   ]
  },
  {
   "cell_type": "code",
   "execution_count": 19,
   "id": "b8cdbc99-5504-499e-9cde-99d3668d9a87",
   "metadata": {},
   "outputs": [
    {
     "data": {
      "text/plain": [
       "'The merged DataFrame -- Avocado is nan no records included on the dataset second dataset'"
      ]
     },
     "metadata": {},
     "output_type": "display_data"
    },
    {
     "data": {
      "text/html": [
       "<div>\n",
       "<style scoped>\n",
       "    .dataframe tbody tr th:only-of-type {\n",
       "        vertical-align: middle;\n",
       "    }\n",
       "\n",
       "    .dataframe tbody tr th {\n",
       "        vertical-align: top;\n",
       "    }\n",
       "\n",
       "    .dataframe thead th {\n",
       "        text-align: right;\n",
       "    }\n",
       "</style>\n",
       "<table border=\"1\" class=\"dataframe\">\n",
       "  <thead>\n",
       "    <tr style=\"text-align: right;\">\n",
       "      <th></th>\n",
       "      <th>fruit</th>\n",
       "      <th>market_price</th>\n",
       "      <th>wholesaler_price</th>\n",
       "    </tr>\n",
       "  </thead>\n",
       "  <tbody>\n",
       "    <tr>\n",
       "      <th>0</th>\n",
       "      <td>apple</td>\n",
       "      <td>21</td>\n",
       "      <td>65.0</td>\n",
       "    </tr>\n",
       "    <tr>\n",
       "      <th>1</th>\n",
       "      <td>banana</td>\n",
       "      <td>14</td>\n",
       "      <td>68.0</td>\n",
       "    </tr>\n",
       "    <tr>\n",
       "      <th>2</th>\n",
       "      <td>avocado</td>\n",
       "      <td>35</td>\n",
       "      <td>NaN</td>\n",
       "    </tr>\n",
       "    <tr>\n",
       "      <th>3</th>\n",
       "      <td>grape</td>\n",
       "      <td>38</td>\n",
       "      <td>71.0</td>\n",
       "    </tr>\n",
       "  </tbody>\n",
       "</table>\n",
       "</div>"
      ],
      "text/plain": [
       "     fruit  market_price  wholesaler_price\n",
       "0    apple            21              65.0\n",
       "1   banana            14              68.0\n",
       "2  avocado            35               NaN\n",
       "3    grape            38              71.0"
      ]
     },
     "execution_count": 19,
     "metadata": {},
     "output_type": "execute_result"
    }
   ],
   "source": [
    "# joining the DataFrames\n",
    "# here both common DataFrame elements are in df1 and df2, \n",
    "# so it extracts apple, banana, grapes from df1 and df2.  \n",
    "display(\"The merged DataFrame -- Avocado is nan no records included on the dataset second dataset\")\n",
    "pd.merge(df1, df2, on = \"fruit\", how = \"outer\")"
   ]
  },
  {
   "cell_type": "markdown",
   "id": "bcd7bc46-2424-47b7-8e22-4468c0819655",
   "metadata": {},
   "source": [
    "## Left"
   ]
  },
  {
   "cell_type": "code",
   "execution_count": 20,
   "id": "039ec302-9ee1-4fe8-95d2-3b1d064a993c",
   "metadata": {},
   "outputs": [
    {
     "data": {
      "text/html": [
       "<div>\n",
       "<style scoped>\n",
       "    .dataframe tbody tr th:only-of-type {\n",
       "        vertical-align: middle;\n",
       "    }\n",
       "\n",
       "    .dataframe tbody tr th {\n",
       "        vertical-align: top;\n",
       "    }\n",
       "\n",
       "    .dataframe thead th {\n",
       "        text-align: right;\n",
       "    }\n",
       "</style>\n",
       "<table border=\"1\" class=\"dataframe\">\n",
       "  <thead>\n",
       "    <tr style=\"text-align: right;\">\n",
       "      <th></th>\n",
       "      <th>fruit</th>\n",
       "      <th>market_price</th>\n",
       "      <th>wholesaler_price</th>\n",
       "    </tr>\n",
       "  </thead>\n",
       "  <tbody>\n",
       "    <tr>\n",
       "      <th>0</th>\n",
       "      <td>apple</td>\n",
       "      <td>21</td>\n",
       "      <td>65.0</td>\n",
       "    </tr>\n",
       "    <tr>\n",
       "      <th>1</th>\n",
       "      <td>banana</td>\n",
       "      <td>14</td>\n",
       "      <td>68.0</td>\n",
       "    </tr>\n",
       "    <tr>\n",
       "      <th>2</th>\n",
       "      <td>avocado</td>\n",
       "      <td>35</td>\n",
       "      <td>NaN</td>\n",
       "    </tr>\n",
       "    <tr>\n",
       "      <th>3</th>\n",
       "      <td>grape</td>\n",
       "      <td>38</td>\n",
       "      <td>71.0</td>\n",
       "    </tr>\n",
       "  </tbody>\n",
       "</table>\n",
       "</div>"
      ],
      "text/plain": [
       "     fruit  market_price  wholesaler_price\n",
       "0    apple            21              65.0\n",
       "1   banana            14              68.0\n",
       "2  avocado            35               NaN\n",
       "3    grape            38              71.0"
      ]
     },
     "execution_count": 20,
     "metadata": {},
     "output_type": "execute_result"
    }
   ],
   "source": [
    "pd.merge(df1, df2, on = \"fruit\", how = \"left\")"
   ]
  },
  {
   "cell_type": "markdown",
   "id": "1450062a-c175-4bf5-8b6e-331148429362",
   "metadata": {},
   "source": [
    "## Rigth"
   ]
  },
  {
   "cell_type": "code",
   "execution_count": 22,
   "id": "fc108615-f638-416b-8a36-b097130a3419",
   "metadata": {},
   "outputs": [
    {
     "data": {
      "text/html": [
       "<div>\n",
       "<style scoped>\n",
       "    .dataframe tbody tr th:only-of-type {\n",
       "        vertical-align: middle;\n",
       "    }\n",
       "\n",
       "    .dataframe tbody tr th {\n",
       "        vertical-align: top;\n",
       "    }\n",
       "\n",
       "    .dataframe thead th {\n",
       "        text-align: right;\n",
       "    }\n",
       "</style>\n",
       "<table border=\"1\" class=\"dataframe\">\n",
       "  <thead>\n",
       "    <tr style=\"text-align: right;\">\n",
       "      <th></th>\n",
       "      <th>fruit</th>\n",
       "      <th>market_price</th>\n",
       "      <th>wholesaler_price</th>\n",
       "    </tr>\n",
       "  </thead>\n",
       "  <tbody>\n",
       "    <tr>\n",
       "      <th>0</th>\n",
       "      <td>apple</td>\n",
       "      <td>21</td>\n",
       "      <td>65</td>\n",
       "    </tr>\n",
       "    <tr>\n",
       "      <th>1</th>\n",
       "      <td>banana</td>\n",
       "      <td>14</td>\n",
       "      <td>68</td>\n",
       "    </tr>\n",
       "    <tr>\n",
       "      <th>2</th>\n",
       "      <td>grape</td>\n",
       "      <td>38</td>\n",
       "      <td>71</td>\n",
       "    </tr>\n",
       "  </tbody>\n",
       "</table>\n",
       "</div>"
      ],
      "text/plain": [
       "    fruit  market_price  wholesaler_price\n",
       "0   apple            21                65\n",
       "1  banana            14                68\n",
       "2   grape            38                71"
      ]
     },
     "execution_count": 22,
     "metadata": {},
     "output_type": "execute_result"
    }
   ],
   "source": [
    "pd.merge(df1, df2, on = \"fruit\", how = \"right\")\n",
    "# on this cae only the records in the DF2 are displayed because only Apple, Banana & grape are present and match with DF1"
   ]
  },
  {
   "cell_type": "markdown",
   "id": "9f59f277-0b9f-48e5-8769-84866c5285cc",
   "metadata": {},
   "source": [
    "# Sample 3. Join as multiple columns, with same column names Fruit & size"
   ]
  },
  {
   "cell_type": "code",
   "execution_count": 29,
   "id": "86fd20dd-1048-4edc-94e8-86332691a1e3",
   "metadata": {},
   "outputs": [
    {
     "data": {
      "text/plain": [
       "'Dataframe 1 with market price'"
      ]
     },
     "metadata": {},
     "output_type": "display_data"
    },
    {
     "data": {
      "text/html": [
       "<div>\n",
       "<style scoped>\n",
       "    .dataframe tbody tr th:only-of-type {\n",
       "        vertical-align: middle;\n",
       "    }\n",
       "\n",
       "    .dataframe tbody tr th {\n",
       "        vertical-align: top;\n",
       "    }\n",
       "\n",
       "    .dataframe thead th {\n",
       "        text-align: right;\n",
       "    }\n",
       "</style>\n",
       "<table border=\"1\" class=\"dataframe\">\n",
       "  <thead>\n",
       "    <tr style=\"text-align: right;\">\n",
       "      <th></th>\n",
       "      <th>fruit</th>\n",
       "      <th>size</th>\n",
       "      <th>market_price</th>\n",
       "    </tr>\n",
       "  </thead>\n",
       "  <tbody>\n",
       "    <tr>\n",
       "      <th>0</th>\n",
       "      <td>apple</td>\n",
       "      <td>small</td>\n",
       "      <td>21</td>\n",
       "    </tr>\n",
       "    <tr>\n",
       "      <th>1</th>\n",
       "      <td>banana</td>\n",
       "      <td>medium</td>\n",
       "      <td>14</td>\n",
       "    </tr>\n",
       "    <tr>\n",
       "      <th>2</th>\n",
       "      <td>avocado</td>\n",
       "      <td>medium</td>\n",
       "      <td>35</td>\n",
       "    </tr>\n",
       "    <tr>\n",
       "      <th>3</th>\n",
       "      <td>apple</td>\n",
       "      <td>medium</td>\n",
       "      <td>30</td>\n",
       "    </tr>\n",
       "  </tbody>\n",
       "</table>\n",
       "</div>"
      ],
      "text/plain": [
       "     fruit    size  market_price\n",
       "0    apple   small            21\n",
       "1   banana  medium            14\n",
       "2  avocado  medium            35\n",
       "3    apple  medium            30"
      ]
     },
     "metadata": {},
     "output_type": "display_data"
    },
    {
     "data": {
      "text/plain": [
       "'Dataframe 1 with reail price'"
      ]
     },
     "metadata": {},
     "output_type": "display_data"
    },
    {
     "data": {
      "text/html": [
       "<div>\n",
       "<style scoped>\n",
       "    .dataframe tbody tr th:only-of-type {\n",
       "        vertical-align: middle;\n",
       "    }\n",
       "\n",
       "    .dataframe tbody tr th {\n",
       "        vertical-align: top;\n",
       "    }\n",
       "\n",
       "    .dataframe thead th {\n",
       "        text-align: right;\n",
       "    }\n",
       "</style>\n",
       "<table border=\"1\" class=\"dataframe\">\n",
       "  <thead>\n",
       "    <tr style=\"text-align: right;\">\n",
       "      <th></th>\n",
       "      <th>fruit</th>\n",
       "      <th>size</th>\n",
       "      <th>retail_price</th>\n",
       "    </tr>\n",
       "  </thead>\n",
       "  <tbody>\n",
       "    <tr>\n",
       "      <th>0</th>\n",
       "      <td>apple</td>\n",
       "      <td>small</td>\n",
       "      <td>16</td>\n",
       "    </tr>\n",
       "    <tr>\n",
       "      <th>1</th>\n",
       "      <td>avocado</td>\n",
       "      <td>medium</td>\n",
       "      <td>30</td>\n",
       "    </tr>\n",
       "    <tr>\n",
       "      <th>2</th>\n",
       "      <td>apple</td>\n",
       "      <td>medium</td>\n",
       "      <td>25</td>\n",
       "    </tr>\n",
       "  </tbody>\n",
       "</table>\n",
       "</div>"
      ],
      "text/plain": [
       "     fruit    size  retail_price\n",
       "0    apple   small            16\n",
       "1  avocado  medium            30\n",
       "2    apple  medium            25"
      ]
     },
     "metadata": {},
     "output_type": "display_data"
    }
   ],
   "source": [
    "df1 = pd.DataFrame({\"fruit\" : [\"apple\", \"banana\", \"avocado\",\"apple\"],\n",
    "                    \"size\" : [\"small\", \"medium\", \"medium\",\"medium\"],\n",
    "                    \"market_price\" : [21, 14, 35,30]})\n",
    "\n",
    "df2 = pd.DataFrame({\"fruit\" : [\"apple\",  \"avocado\",\"apple\"],\n",
    "                    \"size\" : [\"small\",  \"medium\",\"medium\"],\n",
    "                    \"retail_price\" : [16, 30,25]})\n",
    "display(\"Dataframe 1 with market price\")\n",
    "display(df1)\n",
    "display(\"Dataframe 1 with reail price\")\n",
    "display(df2)"
   ]
  },
  {
   "cell_type": "markdown",
   "id": "ee13781c-1285-46e3-919a-51ac63822098",
   "metadata": {},
   "source": [
    "## Left Join"
   ]
  },
  {
   "cell_type": "code",
   "execution_count": 30,
   "id": "24ec6a81-a524-4b94-aaa8-2597fe8e085a",
   "metadata": {},
   "outputs": [
    {
     "data": {
      "text/html": [
       "<div>\n",
       "<style scoped>\n",
       "    .dataframe tbody tr th:only-of-type {\n",
       "        vertical-align: middle;\n",
       "    }\n",
       "\n",
       "    .dataframe tbody tr th {\n",
       "        vertical-align: top;\n",
       "    }\n",
       "\n",
       "    .dataframe thead th {\n",
       "        text-align: right;\n",
       "    }\n",
       "</style>\n",
       "<table border=\"1\" class=\"dataframe\">\n",
       "  <thead>\n",
       "    <tr style=\"text-align: right;\">\n",
       "      <th></th>\n",
       "      <th>fruit</th>\n",
       "      <th>size</th>\n",
       "      <th>market_price</th>\n",
       "      <th>retail_price</th>\n",
       "    </tr>\n",
       "  </thead>\n",
       "  <tbody>\n",
       "    <tr>\n",
       "      <th>0</th>\n",
       "      <td>apple</td>\n",
       "      <td>small</td>\n",
       "      <td>21</td>\n",
       "      <td>16.0</td>\n",
       "    </tr>\n",
       "    <tr>\n",
       "      <th>1</th>\n",
       "      <td>banana</td>\n",
       "      <td>medium</td>\n",
       "      <td>14</td>\n",
       "      <td>NaN</td>\n",
       "    </tr>\n",
       "    <tr>\n",
       "      <th>2</th>\n",
       "      <td>avocado</td>\n",
       "      <td>medium</td>\n",
       "      <td>35</td>\n",
       "      <td>30.0</td>\n",
       "    </tr>\n",
       "    <tr>\n",
       "      <th>3</th>\n",
       "      <td>apple</td>\n",
       "      <td>medium</td>\n",
       "      <td>30</td>\n",
       "      <td>25.0</td>\n",
       "    </tr>\n",
       "  </tbody>\n",
       "</table>\n",
       "</div>"
      ],
      "text/plain": [
       "     fruit    size  market_price  retail_price\n",
       "0    apple   small            21          16.0\n",
       "1   banana  medium            14           NaN\n",
       "2  avocado  medium            35          30.0\n",
       "3    apple  medium            30          25.0"
      ]
     },
     "execution_count": 30,
     "metadata": {},
     "output_type": "execute_result"
    }
   ],
   "source": [
    "pd.merge(df1, df2,  how='left', left_on=['fruit','size'], right_on = ['fruit','size'])"
   ]
  },
  {
   "cell_type": "markdown",
   "id": "d670a046-0a8a-4e62-a06d-3ea891fa8659",
   "metadata": {},
   "source": [
    "## Sum sample 3.1   multiple columns different column names \"Fruta & Tamanio\" vs \"Fruit & size\""
   ]
  },
  {
   "cell_type": "code",
   "execution_count": 33,
   "id": "55fe3552-7bb9-4b89-a702-4c81809b1269",
   "metadata": {},
   "outputs": [
    {
     "data": {
      "text/plain": [
       "'Dataframe 1 with market price'"
      ]
     },
     "metadata": {},
     "output_type": "display_data"
    },
    {
     "data": {
      "text/html": [
       "<div>\n",
       "<style scoped>\n",
       "    .dataframe tbody tr th:only-of-type {\n",
       "        vertical-align: middle;\n",
       "    }\n",
       "\n",
       "    .dataframe tbody tr th {\n",
       "        vertical-align: top;\n",
       "    }\n",
       "\n",
       "    .dataframe thead th {\n",
       "        text-align: right;\n",
       "    }\n",
       "</style>\n",
       "<table border=\"1\" class=\"dataframe\">\n",
       "  <thead>\n",
       "    <tr style=\"text-align: right;\">\n",
       "      <th></th>\n",
       "      <th>fruta</th>\n",
       "      <th>tamanio</th>\n",
       "      <th>market_price</th>\n",
       "    </tr>\n",
       "  </thead>\n",
       "  <tbody>\n",
       "    <tr>\n",
       "      <th>0</th>\n",
       "      <td>apple</td>\n",
       "      <td>small</td>\n",
       "      <td>21</td>\n",
       "    </tr>\n",
       "    <tr>\n",
       "      <th>1</th>\n",
       "      <td>banana</td>\n",
       "      <td>medium</td>\n",
       "      <td>14</td>\n",
       "    </tr>\n",
       "    <tr>\n",
       "      <th>2</th>\n",
       "      <td>avocado</td>\n",
       "      <td>medium</td>\n",
       "      <td>35</td>\n",
       "    </tr>\n",
       "    <tr>\n",
       "      <th>3</th>\n",
       "      <td>apple</td>\n",
       "      <td>medium</td>\n",
       "      <td>30</td>\n",
       "    </tr>\n",
       "  </tbody>\n",
       "</table>\n",
       "</div>"
      ],
      "text/plain": [
       "     fruta tamanio  market_price\n",
       "0    apple   small            21\n",
       "1   banana  medium            14\n",
       "2  avocado  medium            35\n",
       "3    apple  medium            30"
      ]
     },
     "metadata": {},
     "output_type": "display_data"
    },
    {
     "data": {
      "text/plain": [
       "'Dataframe 1 with reail price'"
      ]
     },
     "metadata": {},
     "output_type": "display_data"
    },
    {
     "data": {
      "text/html": [
       "<div>\n",
       "<style scoped>\n",
       "    .dataframe tbody tr th:only-of-type {\n",
       "        vertical-align: middle;\n",
       "    }\n",
       "\n",
       "    .dataframe tbody tr th {\n",
       "        vertical-align: top;\n",
       "    }\n",
       "\n",
       "    .dataframe thead th {\n",
       "        text-align: right;\n",
       "    }\n",
       "</style>\n",
       "<table border=\"1\" class=\"dataframe\">\n",
       "  <thead>\n",
       "    <tr style=\"text-align: right;\">\n",
       "      <th></th>\n",
       "      <th>fruit</th>\n",
       "      <th>size</th>\n",
       "      <th>retail_price</th>\n",
       "    </tr>\n",
       "  </thead>\n",
       "  <tbody>\n",
       "    <tr>\n",
       "      <th>0</th>\n",
       "      <td>apple</td>\n",
       "      <td>small</td>\n",
       "      <td>16</td>\n",
       "    </tr>\n",
       "    <tr>\n",
       "      <th>1</th>\n",
       "      <td>avocado</td>\n",
       "      <td>medium</td>\n",
       "      <td>30</td>\n",
       "    </tr>\n",
       "    <tr>\n",
       "      <th>2</th>\n",
       "      <td>apple</td>\n",
       "      <td>medium</td>\n",
       "      <td>25</td>\n",
       "    </tr>\n",
       "  </tbody>\n",
       "</table>\n",
       "</div>"
      ],
      "text/plain": [
       "     fruit    size  retail_price\n",
       "0    apple   small            16\n",
       "1  avocado  medium            30\n",
       "2    apple  medium            25"
      ]
     },
     "metadata": {},
     "output_type": "display_data"
    }
   ],
   "source": [
    "df1 = pd.DataFrame({\"fruta\" : [\"apple\", \"banana\", \"avocado\",\"apple\"],\n",
    "                    \"tamanio\" : [\"small\", \"medium\", \"medium\",\"medium\"],\n",
    "                    \"market_price\" : [21, 14, 35,30]})\n",
    "\n",
    "df2 = pd.DataFrame({\"fruit\" : [\"apple\",  \"avocado\",\"apple\"],\n",
    "                    \"size\" : [\"small\",  \"medium\",\"medium\"],\n",
    "                    \"retail_price\" : [16, 30,25]})\n",
    "display(\"Dataframe 1 with market price\")\n",
    "display(df1)\n",
    "display(\"Dataframe 1 with reail price\")\n",
    "display(df2)"
   ]
  },
  {
   "cell_type": "markdown",
   "id": "48293cde-bab8-49ea-ba88-c071f2c7b90b",
   "metadata": {},
   "source": [
    "###  *on this case banana record not exist in the rt side df2 vs df1*"
   ]
  },
  {
   "cell_type": "code",
   "execution_count": 34,
   "id": "9fa3a404-142e-44f0-b56f-f72a62769bae",
   "metadata": {},
   "outputs": [
    {
     "data": {
      "text/html": [
       "<div>\n",
       "<style scoped>\n",
       "    .dataframe tbody tr th:only-of-type {\n",
       "        vertical-align: middle;\n",
       "    }\n",
       "\n",
       "    .dataframe tbody tr th {\n",
       "        vertical-align: top;\n",
       "    }\n",
       "\n",
       "    .dataframe thead th {\n",
       "        text-align: right;\n",
       "    }\n",
       "</style>\n",
       "<table border=\"1\" class=\"dataframe\">\n",
       "  <thead>\n",
       "    <tr style=\"text-align: right;\">\n",
       "      <th></th>\n",
       "      <th>fruta</th>\n",
       "      <th>tamanio</th>\n",
       "      <th>market_price</th>\n",
       "      <th>fruit</th>\n",
       "      <th>size</th>\n",
       "      <th>retail_price</th>\n",
       "    </tr>\n",
       "  </thead>\n",
       "  <tbody>\n",
       "    <tr>\n",
       "      <th>0</th>\n",
       "      <td>apple</td>\n",
       "      <td>small</td>\n",
       "      <td>21</td>\n",
       "      <td>apple</td>\n",
       "      <td>small</td>\n",
       "      <td>16.0</td>\n",
       "    </tr>\n",
       "    <tr>\n",
       "      <th>1</th>\n",
       "      <td>banana</td>\n",
       "      <td>medium</td>\n",
       "      <td>14</td>\n",
       "      <td>NaN</td>\n",
       "      <td>NaN</td>\n",
       "      <td>NaN</td>\n",
       "    </tr>\n",
       "    <tr>\n",
       "      <th>2</th>\n",
       "      <td>avocado</td>\n",
       "      <td>medium</td>\n",
       "      <td>35</td>\n",
       "      <td>avocado</td>\n",
       "      <td>medium</td>\n",
       "      <td>30.0</td>\n",
       "    </tr>\n",
       "    <tr>\n",
       "      <th>3</th>\n",
       "      <td>apple</td>\n",
       "      <td>medium</td>\n",
       "      <td>30</td>\n",
       "      <td>apple</td>\n",
       "      <td>medium</td>\n",
       "      <td>25.0</td>\n",
       "    </tr>\n",
       "  </tbody>\n",
       "</table>\n",
       "</div>"
      ],
      "text/plain": [
       "     fruta tamanio  market_price    fruit    size  retail_price\n",
       "0    apple   small            21    apple   small          16.0\n",
       "1   banana  medium            14      NaN     NaN           NaN\n",
       "2  avocado  medium            35  avocado  medium          30.0\n",
       "3    apple  medium            30    apple  medium          25.0"
      ]
     },
     "execution_count": 34,
     "metadata": {},
     "output_type": "execute_result"
    }
   ],
   "source": [
    "pd.merge(df1, df2,  how='left', left_on=['fruta','tamanio'], right_on = ['fruit','size'])"
   ]
  },
  {
   "cell_type": "markdown",
   "id": "45e825f1-04bd-448f-b37d-9f55372b61d1",
   "metadata": {},
   "source": [
    "###  *on this case banana record not exist in the left side df2 vs df1 the right condition excludes the record of banana"
   ]
  },
  {
   "cell_type": "code",
   "execution_count": 36,
   "id": "1be8163b-7b27-4697-8e26-4dbd50462a13",
   "metadata": {},
   "outputs": [
    {
     "data": {
      "text/html": [
       "<div>\n",
       "<style scoped>\n",
       "    .dataframe tbody tr th:only-of-type {\n",
       "        vertical-align: middle;\n",
       "    }\n",
       "\n",
       "    .dataframe tbody tr th {\n",
       "        vertical-align: top;\n",
       "    }\n",
       "\n",
       "    .dataframe thead th {\n",
       "        text-align: right;\n",
       "    }\n",
       "</style>\n",
       "<table border=\"1\" class=\"dataframe\">\n",
       "  <thead>\n",
       "    <tr style=\"text-align: right;\">\n",
       "      <th></th>\n",
       "      <th>fruta</th>\n",
       "      <th>tamanio</th>\n",
       "      <th>market_price</th>\n",
       "      <th>fruit</th>\n",
       "      <th>size</th>\n",
       "      <th>retail_price</th>\n",
       "    </tr>\n",
       "  </thead>\n",
       "  <tbody>\n",
       "    <tr>\n",
       "      <th>0</th>\n",
       "      <td>apple</td>\n",
       "      <td>small</td>\n",
       "      <td>21</td>\n",
       "      <td>apple</td>\n",
       "      <td>small</td>\n",
       "      <td>16</td>\n",
       "    </tr>\n",
       "    <tr>\n",
       "      <th>1</th>\n",
       "      <td>avocado</td>\n",
       "      <td>medium</td>\n",
       "      <td>35</td>\n",
       "      <td>avocado</td>\n",
       "      <td>medium</td>\n",
       "      <td>30</td>\n",
       "    </tr>\n",
       "    <tr>\n",
       "      <th>2</th>\n",
       "      <td>apple</td>\n",
       "      <td>medium</td>\n",
       "      <td>30</td>\n",
       "      <td>apple</td>\n",
       "      <td>medium</td>\n",
       "      <td>25</td>\n",
       "    </tr>\n",
       "  </tbody>\n",
       "</table>\n",
       "</div>"
      ],
      "text/plain": [
       "     fruta tamanio  market_price    fruit    size  retail_price\n",
       "0    apple   small            21    apple   small            16\n",
       "1  avocado  medium            35  avocado  medium            30\n",
       "2    apple  medium            30    apple  medium            25"
      ]
     },
     "execution_count": 36,
     "metadata": {},
     "output_type": "execute_result"
    }
   ],
   "source": [
    "pd.merge(df1, df2,  how='right', left_on=['fruta','tamanio'], right_on = ['fruit','size'])"
   ]
  }
 ],
 "metadata": {
  "kernelspec": {
   "display_name": "Python 3 (ipykernel)",
   "language": "python",
   "name": "python3"
  },
  "language_info": {
   "codemirror_mode": {
    "name": "ipython",
    "version": 3
   },
   "file_extension": ".py",
   "mimetype": "text/x-python",
   "name": "python",
   "nbconvert_exporter": "python",
   "pygments_lexer": "ipython3",
   "version": "3.11.4"
  }
 },
 "nbformat": 4,
 "nbformat_minor": 5
}
