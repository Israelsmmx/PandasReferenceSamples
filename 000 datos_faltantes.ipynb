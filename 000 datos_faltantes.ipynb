{
 "cells": [
  {
   "cell_type": "markdown",
   "metadata": {},
   "source": [
    "# Manejo de Datos Faltantes\n",
    "\n",
    "@author: Octavio Gutiérrez de Código Máquina\n",
    "\n",
    "Some lines was fixes to run starting from OCtavio code\n"
   ]
  },
  {
   "cell_type": "code",
   "execution_count": 90,
   "metadata": {},
   "outputs": [
    {
     "name": "stdout",
     "output_type": "stream",
     "text": [
      "___________________________DATOS\n",
      "    nombre  edad  ingreso\n",
      "0     Juan  35.0  15800.0\n",
      "1    Luisa  25.0  17000.0\n",
      "2      NaN  70.0  20000.0\n",
      "3   Carmen  49.0  22000.0\n",
      "4      NaN   NaN      NaN\n",
      "5    Mario  30.0  15800.0\n",
      "6    Pedro   NaN  17400.0\n",
      "7  Gustavo  27.0      NaN\n",
      "8   Carlos   NaN      NaN\n"
     ]
    }
   ],
   "source": [
    "import pandas as pd\n",
    "import numpy as np\n",
    "datos = pd.read_csv(\"../datos/clientes.csv\")\n",
    "print(\"___________________________DATOS\")\n",
    "print(datos)\n",
    "\n"
   ]
  },
  {
   "cell_type": "code",
   "execution_count": 14,
   "metadata": {},
   "outputs": [
    {
     "name": "stdout",
     "output_type": "stream",
     "text": [
      "___________________________\n",
      "0       Juan\n",
      "1      Luisa\n",
      "2        NaN\n",
      "3     Carmen\n",
      "4        NaN\n",
      "5      Mario\n",
      "6      Pedro\n",
      "7    Gustavo\n",
      "8     Carlos\n",
      "Name: nombre, dtype: object\n",
      "___________________________name null\n",
      "  nombre  edad  ingreso\n",
      "2    NaN  70.0  20000.0\n",
      "4    NaN   NaN      NaN\n"
     ]
    }
   ],
   "source": [
    "print(\"___________________________\")\n",
    "print(datos[\"nombre\"])\n",
    "print(\"___________________________name null\")\n",
    "print(datos[ datos[\"nombre\"].isnull() ])"
   ]
  },
  {
   "cell_type": "code",
   "execution_count": 91,
   "metadata": {},
   "outputs": [
    {
     "name": "stdout",
     "output_type": "stream",
     "text": [
      "    nombre  edad  ingreso\n",
      "0     Juan  35.0  15800.0\n",
      "1    Luisa  25.0  17000.0\n",
      "2      NaN  70.0  20000.0\n",
      "3   Carmen  49.0  22000.0\n",
      "4      NaN   NaN      NaN\n",
      "5    Mario  30.0  15800.0\n",
      "6    Pedro   NaN  17400.0\n",
      "7  Gustavo  27.0      NaN\n",
      "8   Carlos   NaN      NaN\n",
      "___________________________ fill NA / COL\n",
      "        nombre  edad  ingreso\n",
      "0         Juan  35.0  15800.0\n",
      "1        Luisa  25.0  17000.0\n",
      "2  desconocido  70.0  20000.0\n",
      "3       Carmen  49.0  22000.0\n",
      "4  desconocido   0.0      NaN\n",
      "5        Mario  30.0  15800.0\n",
      "6        Pedro   0.0  17400.0\n",
      "7      Gustavo  27.0      NaN\n",
      "8       Carlos   0.0      NaN\n"
     ]
    }
   ],
   "source": [
    "print(datos)\n",
    "print(\"___________________________ fill NA / COL\")\n",
    "datos[\"nombre\"] = datos[\"nombre\"].fillna(\"desconocido\")\n",
    "datos[\"edad\"] = datos[\"edad\"].fillna(0)\n",
    "#datos[\"ingreso\"] = datos[\"ingreso\"].fillna(0)\n",
    "print(datos)"
   ]
  },
  {
   "cell_type": "code",
   "execution_count": 92,
   "metadata": {},
   "outputs": [
    {
     "name": "stdout",
     "output_type": "stream",
     "text": [
      "___________________________ mean, median, mode\n",
      "18000.0 17200.0 15800.0\n",
      "___________________________datos\n",
      "        nombre  edad  ingreso\n",
      "0         Juan  35.0  15800.0\n",
      "1        Luisa  25.0  17000.0\n",
      "2  desconocido  70.0  20000.0\n",
      "3       Carmen  49.0  22000.0\n",
      "4  desconocido   0.0  18000.0\n",
      "5        Mario  30.0  15800.0\n",
      "6        Pedro   0.0  17400.0\n",
      "7      Gustavo  27.0  18000.0\n",
      "8       Carlos   0.0  18000.0\n",
      "___________________________filtro\n",
      "        nombre  edad  ingreso\n",
      "4  desconocido   0.0  18000.0\n",
      "7      Gustavo  27.0  18000.0\n",
      "8       Carlos   0.0  18000.0\n"
     ]
    }
   ],
   "source": [
    "promedio = datos[\"ingreso\"].mean()\n",
    "mediana = datos[\"ingreso\"].median()\n",
    "moda = datos[\"ingreso\"].mode()[0]\n",
    "print(\"___________________________ mean, median, mode\")\n",
    "print(promedio, mediana, moda)\n",
    "\n",
    "filtro = datos[pd.isnull(datos['ingreso'])].fillna(promedio)\n",
    "datos[\"ingreso\"] = datos[\"ingreso\"].fillna(promedio)\n",
    "#datos[pd.isnull(datos['ingreso'])].fillna(promedio)\n",
    "\n",
    "#datos[\"ingreso\"] = (datos[\"ingreso\"] == np.nan ).datos[\"ingreso\"].fillna(moda)\n",
    "print(\"___________________________datos\")\n",
    "print(datos)\n",
    "print(\"___________________________filtro\")\n",
    "print(filtro)"
   ]
  },
  {
   "cell_type": "code",
   "execution_count": 93,
   "metadata": {},
   "outputs": [
    {
     "name": "stdout",
     "output_type": "stream",
     "text": [
      "___________________________ ingreso update\n",
      "        nombre  edad  ingreso\n",
      "0         Juan  35.0  15800.0\n",
      "1        Luisa  25.0  17000.0\n",
      "2  desconocido  70.0  20000.0\n",
      "3       Carmen  49.0  22000.0\n",
      "4  desconocido   0.0  18000.0\n",
      "5        Mario  30.0  15800.0\n",
      "6        Pedro   0.0  17400.0\n",
      "7      Gustavo  27.0  18000.0\n",
      "8       Carlos   0.0  18000.0\n",
      "None\n",
      "        nombre  edad  ingreso\n",
      "0         Juan  35.0  15800.0\n",
      "1        Luisa  25.0  17000.0\n",
      "2  desconocido  70.0  20000.0\n",
      "3       Carmen  49.0  22000.0\n",
      "4  desconocido   0.0  18000.0\n",
      "5        Mario  30.0  15800.0\n",
      "6        Pedro   0.0  17400.0\n",
      "7      Gustavo  27.0  18000.0\n",
      "8       Carlos   0.0  18000.0\n"
     ]
    }
   ],
   "source": [
    "\n",
    "print(\"___________________________ ingreso update\")\n",
    "print(datos)\n",
    "print(datos.dropna(subset=[\"nombre\", \"ingreso\"], inplace=True))\n",
    "print(datos)\n"
   ]
  }
 ],
 "metadata": {
  "kernelspec": {
   "display_name": "Python 3 (ipykernel)",
   "language": "python",
   "name": "python3"
  },
  "language_info": {
   "codemirror_mode": {
    "name": "ipython",
    "version": 3
   },
   "file_extension": ".py",
   "mimetype": "text/x-python",
   "name": "python",
   "nbconvert_exporter": "python",
   "pygments_lexer": "ipython3",
   "version": "3.11.4"
  }
 },
 "nbformat": 4,
 "nbformat_minor": 4
}
