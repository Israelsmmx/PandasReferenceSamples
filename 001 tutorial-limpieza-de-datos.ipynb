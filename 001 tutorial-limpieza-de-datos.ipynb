{
 "cells": [
  {
   "cell_type": "markdown",
   "metadata": {
    "id": "Sz8ogFjl7a8b"
   },
   "source": [
    "# TUTORIAL: LIMPIEZA DE DATOS CON PYTHON Y PANDAS\n",
    "\n",
    "@author: Octavio Gutiérrez de Código Máquina\n",
    "@author: Israel Sanchez (samples updates)"
   ]
  },
  {
   "cell_type": "markdown",
   "metadata": {
    "id": "jYJxCZNZDfYe"
   },
   "source": [
    "# 1. El problema del negocio\n",
    "\n",
    "Una entidad bancaria contrata a una empresa de marketing encargada de contactar telefónicamente a posibles clientes para determinar si están interesados o no en adquirir un certificado de depósito a término con el banco.\n",
    "\n",
    "¿Qué perfil tienen los clientes con mayor potencial de conversión?"
   ]
  },
  {
   "cell_type": "markdown",
   "metadata": {
    "id": "4WOEkmPt7aHf"
   },
   "source": [
    "#2. El set de datos\n",
    "\n",
    "La información recolectada por la empresa de mercadeo se encuentra en un archivo CSV (`dataset_banco.csv`) con 45215 filas y 17 columnas.\n",
    "\n",
    "Cada registro contiene 16 características (las primeras 16 columnas) y una categoría (\"yes\" o \"no\" dependiendo de si la persona está o no interesada en adquirir el producto). Las columnas son:\n",
    "\n",
    "1. \"age\":  edad (numérica)\n",
    "2. \"job\": tipo de trabajo (categórica: \"admin.\", \"unknown\", \"unemployed\", \"management\", \"housemaid\", \"entrepreneur\", \"student\", \"blue-collar\",\"self-employed\", \"retired\", \"technician\", \"services\") \n",
    "3. \"marital\": estado civil (categórica: \"married\", \"divorced\", \"single\")\n",
    "4. \"education\": nivel educativo (categórica: \"unknown\", \"secondary\", \"primary\", \"tertiary\")\n",
    "5. \"default\": si dejó de pagar sus obligaciones (categórica: \"yes\", \"no\")\n",
    "6. \"balance\": saldo promedio anual en euros (numérica)\n",
    "7. \"housing\": ¿tiene o no crédito hipotecario? (categórica: \"yes\", \"no\")\n",
    "8. \"loan\": ¿tiene créditos de consumo? (categórica: \"yes\", \"no\")\n",
    "9. \"contact\": medio a través del cual fue contactado (categórica: \"unknown\", \"telephone\", \"cellular\") \n",
    "10. \"day\": último día del mes en el que fue contactada (numérica)\n",
    "11. \"month\": último mes en el que fue contactada (categórica: \"jan\", \"feb\", \"mar\", ..., \"nov\", \"dec\")\n",
    "12. \"duration\": duración (en segundos) del último contacto (numérica)\n",
    "13. \"campaign\": número total de veces que fue contactada durante la campaña (numérica)\n",
    "14. \"pdays\": número de días transcurridos después de haber sido contactado antes de la campaña actual (numérica. -1 indica que no fue contactado previamente)\n",
    "15. \"previous\": número de veces que ha sido contactada antes de esta campaña (numérica)\n",
    "16. \"poutcome\": resultado de la campaña de marketing anterior (categórica: \"unknown\", \"other\", \"failure\", \"success\")\n",
    "17. \"y\": categoría ¿el cliente se suscribió a un depósito a término? (categórica: \"yes\", \"no\")"
   ]
  },
  {
   "cell_type": "markdown",
   "metadata": {
    "id": "7wXHT_PLEFkr"
   },
   "source": [
    "#3. Una primera mirada al dataset"
   ]
  },
  {
   "cell_type": "code",
   "execution_count": 1,
   "metadata": {
    "executionInfo": {
     "elapsed": 214,
     "status": "ok",
     "timestamp": 1671183680250,
     "user": {
      "displayName": "Miguel Sotaquirá",
      "userId": "08038952820764930757"
     },
     "user_tz": 300
    },
    "id": "SQ_-SdsX7enM"
   },
   "outputs": [],
   "source": [
    "# Importar librerías\n",
    "import pandas as pd\n",
    "import matplotlib.pyplot as plt\n",
    "import seaborn as sns"
   ]
  },
  {
   "cell_type": "code",
   "execution_count": 3,
   "metadata": {
    "colab": {
     "base_uri": "https://localhost:8080/"
    },
    "executionInfo": {
     "elapsed": 1729,
     "status": "ok",
     "timestamp": 1671183682226,
     "user": {
      "displayName": "Miguel Sotaquirá",
      "userId": "08038952820764930757"
     },
     "user_tz": 300
    },
    "id": "yECOD3UAEV-a",
    "outputId": "7294032e-20f8-4149-bc41-fe6e29483dd0"
   },
   "outputs": [],
   "source": [
    "# Lectura\n",
    "#from google.colab import drive\n",
    "#drive.mount('/gdrive')\n",
    "\n",
    "ruta = \"../datos/dataset_banco.csv\"\n",
    "data = pd.read_csv(ruta)"
   ]
  },
  {
   "cell_type": "code",
   "execution_count": 43,
   "metadata": {
    "colab": {
     "base_uri": "https://localhost:8080/",
     "height": 289
    },
    "executionInfo": {
     "elapsed": 17,
     "status": "ok",
     "timestamp": 1671183682227,
     "user": {
      "displayName": "Miguel Sotaquirá",
      "userId": "08038952820764930757"
     },
     "user_tz": 300
    },
    "id": "DAurjZa07b5Z",
    "outputId": "ceef143c-51bf-4d6a-f6c3-00d12e3fff21"
   },
   "outputs": [
    {
     "name": "stdout",
     "output_type": "stream",
     "text": [
      "(45215, 17)\n"
     ]
    },
    {
     "data": {
      "text/html": [
       "\n",
       "  <div id=\"df-91b54752-966b-4630-858d-c8183cc66bdd\">\n",
       "    <div class=\"colab-df-container\">\n",
       "      <div>\n",
       "<style scoped>\n",
       "    .dataframe tbody tr th:only-of-type {\n",
       "        vertical-align: middle;\n",
       "    }\n",
       "\n",
       "    .dataframe tbody tr th {\n",
       "        vertical-align: top;\n",
       "    }\n",
       "\n",
       "    .dataframe thead th {\n",
       "        text-align: right;\n",
       "    }\n",
       "</style>\n",
       "<table border=\"1\" class=\"dataframe\">\n",
       "  <thead>\n",
       "    <tr style=\"text-align: right;\">\n",
       "      <th></th>\n",
       "      <th>age</th>\n",
       "      <th>job</th>\n",
       "      <th>marital</th>\n",
       "      <th>education</th>\n",
       "      <th>default</th>\n",
       "      <th>balance</th>\n",
       "      <th>housing</th>\n",
       "      <th>loan</th>\n",
       "      <th>contact</th>\n",
       "      <th>day</th>\n",
       "      <th>month</th>\n",
       "      <th>duration</th>\n",
       "      <th>campaign</th>\n",
       "      <th>pdays</th>\n",
       "      <th>previous</th>\n",
       "      <th>poutcome</th>\n",
       "      <th>y</th>\n",
       "    </tr>\n",
       "  </thead>\n",
       "  <tbody>\n",
       "    <tr>\n",
       "      <th>0</th>\n",
       "      <td>58</td>\n",
       "      <td>management</td>\n",
       "      <td>married</td>\n",
       "      <td>tertiary</td>\n",
       "      <td>no</td>\n",
       "      <td>2143.0</td>\n",
       "      <td>yes</td>\n",
       "      <td>no</td>\n",
       "      <td>unknown</td>\n",
       "      <td>5</td>\n",
       "      <td>may</td>\n",
       "      <td>261.0</td>\n",
       "      <td>1</td>\n",
       "      <td>-1.0</td>\n",
       "      <td>0</td>\n",
       "      <td>unknown</td>\n",
       "      <td>no</td>\n",
       "    </tr>\n",
       "    <tr>\n",
       "      <th>1</th>\n",
       "      <td>44</td>\n",
       "      <td>technician</td>\n",
       "      <td>single</td>\n",
       "      <td>secondary</td>\n",
       "      <td>no</td>\n",
       "      <td>29.0</td>\n",
       "      <td>yes</td>\n",
       "      <td>no</td>\n",
       "      <td>unknown</td>\n",
       "      <td>5</td>\n",
       "      <td>may</td>\n",
       "      <td>151.0</td>\n",
       "      <td>1</td>\n",
       "      <td>-1.0</td>\n",
       "      <td>0</td>\n",
       "      <td>unknown</td>\n",
       "      <td>no</td>\n",
       "    </tr>\n",
       "    <tr>\n",
       "      <th>2</th>\n",
       "      <td>33</td>\n",
       "      <td>entrepreneur</td>\n",
       "      <td>married</td>\n",
       "      <td>secondary</td>\n",
       "      <td>no</td>\n",
       "      <td>2.0</td>\n",
       "      <td>yes</td>\n",
       "      <td>yes</td>\n",
       "      <td>unknown</td>\n",
       "      <td>5</td>\n",
       "      <td>may</td>\n",
       "      <td>76.0</td>\n",
       "      <td>1</td>\n",
       "      <td>-1.0</td>\n",
       "      <td>0</td>\n",
       "      <td>unknown</td>\n",
       "      <td>no</td>\n",
       "    </tr>\n",
       "    <tr>\n",
       "      <th>3</th>\n",
       "      <td>47</td>\n",
       "      <td>blue-collar</td>\n",
       "      <td>married</td>\n",
       "      <td>unknown</td>\n",
       "      <td>no</td>\n",
       "      <td>1506.0</td>\n",
       "      <td>yes</td>\n",
       "      <td>no</td>\n",
       "      <td>unknown</td>\n",
       "      <td>5</td>\n",
       "      <td>may</td>\n",
       "      <td>92.0</td>\n",
       "      <td>1</td>\n",
       "      <td>-1.0</td>\n",
       "      <td>0</td>\n",
       "      <td>unknown</td>\n",
       "      <td>no</td>\n",
       "    </tr>\n",
       "    <tr>\n",
       "      <th>4</th>\n",
       "      <td>33</td>\n",
       "      <td>unknown</td>\n",
       "      <td>single</td>\n",
       "      <td>unknown</td>\n",
       "      <td>no</td>\n",
       "      <td>1.0</td>\n",
       "      <td>no</td>\n",
       "      <td>no</td>\n",
       "      <td>unknown</td>\n",
       "      <td>5</td>\n",
       "      <td>may</td>\n",
       "      <td>198.0</td>\n",
       "      <td>1</td>\n",
       "      <td>-1.0</td>\n",
       "      <td>0</td>\n",
       "      <td>unknown</td>\n",
       "      <td>no</td>\n",
       "    </tr>\n",
       "  </tbody>\n",
       "</table>\n",
       "</div>\n",
       "      <button class=\"colab-df-convert\" onclick=\"convertToInteractive('df-91b54752-966b-4630-858d-c8183cc66bdd')\"\n",
       "              title=\"Convert this dataframe to an interactive table.\"\n",
       "              style=\"display:none;\">\n",
       "        \n",
       "  <svg xmlns=\"http://www.w3.org/2000/svg\" height=\"24px\"viewBox=\"0 0 24 24\"\n",
       "       width=\"24px\">\n",
       "    <path d=\"M0 0h24v24H0V0z\" fill=\"none\"/>\n",
       "    <path d=\"M18.56 5.44l.94 2.06.94-2.06 2.06-.94-2.06-.94-.94-2.06-.94 2.06-2.06.94zm-11 1L8.5 8.5l.94-2.06 2.06-.94-2.06-.94L8.5 2.5l-.94 2.06-2.06.94zm10 10l.94 2.06.94-2.06 2.06-.94-2.06-.94-.94-2.06-.94 2.06-2.06.94z\"/><path d=\"M17.41 7.96l-1.37-1.37c-.4-.4-.92-.59-1.43-.59-.52 0-1.04.2-1.43.59L10.3 9.45l-7.72 7.72c-.78.78-.78 2.05 0 2.83L4 21.41c.39.39.9.59 1.41.59.51 0 1.02-.2 1.41-.59l7.78-7.78 2.81-2.81c.8-.78.8-2.07 0-2.86zM5.41 20L4 18.59l7.72-7.72 1.47 1.35L5.41 20z\"/>\n",
       "  </svg>\n",
       "      </button>\n",
       "      \n",
       "  <style>\n",
       "    .colab-df-container {\n",
       "      display:flex;\n",
       "      flex-wrap:wrap;\n",
       "      gap: 12px;\n",
       "    }\n",
       "\n",
       "    .colab-df-convert {\n",
       "      background-color: #E8F0FE;\n",
       "      border: none;\n",
       "      border-radius: 50%;\n",
       "      cursor: pointer;\n",
       "      display: none;\n",
       "      fill: #1967D2;\n",
       "      height: 32px;\n",
       "      padding: 0 0 0 0;\n",
       "      width: 32px;\n",
       "    }\n",
       "\n",
       "    .colab-df-convert:hover {\n",
       "      background-color: #E2EBFA;\n",
       "      box-shadow: 0px 1px 2px rgba(60, 64, 67, 0.3), 0px 1px 3px 1px rgba(60, 64, 67, 0.15);\n",
       "      fill: #174EA6;\n",
       "    }\n",
       "\n",
       "    [theme=dark] .colab-df-convert {\n",
       "      background-color: #3B4455;\n",
       "      fill: #D2E3FC;\n",
       "    }\n",
       "\n",
       "    [theme=dark] .colab-df-convert:hover {\n",
       "      background-color: #434B5C;\n",
       "      box-shadow: 0px 1px 3px 1px rgba(0, 0, 0, 0.15);\n",
       "      filter: drop-shadow(0px 1px 2px rgba(0, 0, 0, 0.3));\n",
       "      fill: #FFFFFF;\n",
       "    }\n",
       "  </style>\n",
       "\n",
       "      <script>\n",
       "        const buttonEl =\n",
       "          document.querySelector('#df-91b54752-966b-4630-858d-c8183cc66bdd button.colab-df-convert');\n",
       "        buttonEl.style.display =\n",
       "          google.colab.kernel.accessAllowed ? 'block' : 'none';\n",
       "\n",
       "        async function convertToInteractive(key) {\n",
       "          const element = document.querySelector('#df-91b54752-966b-4630-858d-c8183cc66bdd');\n",
       "          const dataTable =\n",
       "            await google.colab.kernel.invokeFunction('convertToInteractive',\n",
       "                                                     [key], {});\n",
       "          if (!dataTable) return;\n",
       "\n",
       "          const docLinkHtml = 'Like what you see? Visit the ' +\n",
       "            '<a target=\"_blank\" href=https://colab.research.google.com/notebooks/data_table.ipynb>data table notebook</a>'\n",
       "            + ' to learn more about interactive tables.';\n",
       "          element.innerHTML = '';\n",
       "          dataTable['output_type'] = 'display_data';\n",
       "          await google.colab.output.renderOutput(dataTable, element);\n",
       "          const docLink = document.createElement('div');\n",
       "          docLink.innerHTML = docLinkHtml;\n",
       "          element.appendChild(docLink);\n",
       "        }\n",
       "      </script>\n",
       "    </div>\n",
       "  </div>\n",
       "  "
      ],
      "text/plain": [
       "   age           job  marital  education default  balance housing loan  \\\n",
       "0   58    management  married   tertiary      no   2143.0     yes   no   \n",
       "1   44    technician   single  secondary      no     29.0     yes   no   \n",
       "2   33  entrepreneur  married  secondary      no      2.0     yes  yes   \n",
       "3   47   blue-collar  married    unknown      no   1506.0     yes   no   \n",
       "4   33       unknown   single    unknown      no      1.0      no   no   \n",
       "\n",
       "   contact  day month  duration  campaign  pdays  previous poutcome   y  \n",
       "0  unknown    5   may     261.0         1   -1.0         0  unknown  no  \n",
       "1  unknown    5   may     151.0         1   -1.0         0  unknown  no  \n",
       "2  unknown    5   may      76.0         1   -1.0         0  unknown  no  \n",
       "3  unknown    5   may      92.0         1   -1.0         0  unknown  no  \n",
       "4  unknown    5   may     198.0         1   -1.0         0  unknown  no  "
      ]
     },
     "execution_count": 43,
     "metadata": {},
     "output_type": "execute_result"
    }
   ],
   "source": [
    "print(data.shape)\n",
    "data.head()"
   ]
  },
  {
   "cell_type": "code",
   "execution_count": 5,
   "metadata": {
    "colab": {
     "base_uri": "https://localhost:8080/"
    },
    "executionInfo": {
     "elapsed": 13,
     "status": "ok",
     "timestamp": 1671183682228,
     "user": {
      "displayName": "Miguel Sotaquirá",
      "userId": "08038952820764930757"
     },
     "user_tz": 300
    },
    "id": "gATCZsQPE3VQ",
    "outputId": "4e51a865-e961-4849-d5b8-130c40b76eab"
   },
   "outputs": [
    {
     "name": "stdout",
     "output_type": "stream",
     "text": [
      "<class 'pandas.core.frame.DataFrame'>\n",
      "RangeIndex: 45215 entries, 0 to 45214\n",
      "Data columns (total 17 columns):\n",
      " #   Column     Non-Null Count  Dtype  \n",
      "---  ------     --------------  -----  \n",
      " 0   age        45215 non-null  int64  \n",
      " 1   job        45213 non-null  object \n",
      " 2   marital    45214 non-null  object \n",
      " 3   education  45214 non-null  object \n",
      " 4   default    45215 non-null  object \n",
      " 5   balance    45213 non-null  float64\n",
      " 6   housing    45215 non-null  object \n",
      " 7   loan       45215 non-null  object \n",
      " 8   contact    45215 non-null  object \n",
      " 9   day        45215 non-null  int64  \n",
      " 10  month      45215 non-null  object \n",
      " 11  duration   45214 non-null  float64\n",
      " 12  campaign   45215 non-null  int64  \n",
      " 13  pdays      45214 non-null  float64\n",
      " 14  previous   45215 non-null  int64  \n",
      " 15  poutcome   45215 non-null  object \n",
      " 16  y          45215 non-null  object \n",
      "dtypes: float64(3), int64(4), object(10)\n",
      "memory usage: 5.9+ MB\n"
     ]
    }
   ],
   "source": [
    "# Veamos las variables categóricas y las numéricas\n",
    "data.info()"
   ]
  },
  {
   "cell_type": "markdown",
   "metadata": {
    "id": "CGUfF1eZaeoj"
   },
   "source": [
    "# 4. Limpieza\n",
    "\n",
    "Realizaremos el proceso de limpieza teniendo en cuenta las situaciones más comunes:\n",
    "\n",
    "1. Datos faltantes en algunas celdas\n",
    "2. Columnas irrelevantes (que no responden al problema que queremos resolver)\n",
    "3. Registros (filas) repetidos\n",
    "4. Valores extremos (*outliers*) en el caso de las variables numéricas. Se deben analizar en detalle pues no necesariamente la solución es eliminarlos\n",
    "5. Errores tipográficos en el caso de las variables categóricas\n",
    "\n",
    "Al final de este proceso de limpieza deberíamos tener un set de datos **íntegro**, listo para la fase de Análisis Exploratorio."
   ]
  },
  {
   "cell_type": "markdown",
   "metadata": {
    "id": "zxyeciKcaClS"
   },
   "source": [
    "## 4.1 Datos faltantes\n",
    "\n",
    "Acá comenzamos a ver que los datos no están completos, pues no todas las columnas tienen la misma cantidad de registros.\n",
    "\n",
    "El número total de registros debería ser 45.215. Sin embargo columnas como \"job\", \"marital\", \"education\", \"balance\", \"duration\" y \"pdays\".\n",
    "\n",
    "Por ser tan pocos los datos  faltantes optaremos por eliminar las filas correspondientes:"
   ]
  },
  {
   "cell_type": "code",
   "execution_count": 6,
   "metadata": {
    "colab": {
     "base_uri": "https://localhost:8080/"
    },
    "executionInfo": {
     "elapsed": 217,
     "status": "ok",
     "timestamp": 1671183682435,
     "user": {
      "displayName": "Miguel Sotaquirá",
      "userId": "08038952820764930757"
     },
     "user_tz": 300
    },
    "id": "_KCHs7bvE-UR",
    "outputId": "9260b2d8-01e2-4e0b-abd7-d917c257c01b"
   },
   "outputs": [
    {
     "name": "stdout",
     "output_type": "stream",
     "text": [
      "<class 'pandas.core.frame.DataFrame'>\n",
      "Index: 45207 entries, 0 to 45214\n",
      "Data columns (total 17 columns):\n",
      " #   Column     Non-Null Count  Dtype  \n",
      "---  ------     --------------  -----  \n",
      " 0   age        45207 non-null  int64  \n",
      " 1   job        45207 non-null  object \n",
      " 2   marital    45207 non-null  object \n",
      " 3   education  45207 non-null  object \n",
      " 4   default    45207 non-null  object \n",
      " 5   balance    45207 non-null  float64\n",
      " 6   housing    45207 non-null  object \n",
      " 7   loan       45207 non-null  object \n",
      " 8   contact    45207 non-null  object \n",
      " 9   day        45207 non-null  int64  \n",
      " 10  month      45207 non-null  object \n",
      " 11  duration   45207 non-null  float64\n",
      " 12  campaign   45207 non-null  int64  \n",
      " 13  pdays      45207 non-null  float64\n",
      " 14  previous   45207 non-null  int64  \n",
      " 15  poutcome   45207 non-null  object \n",
      " 16  y          45207 non-null  object \n",
      "dtypes: float64(3), int64(4), object(10)\n",
      "memory usage: 6.2+ MB\n"
     ]
    }
   ],
   "source": [
    "data.dropna(inplace=True)\n",
    "data.info()"
   ]
  },
  {
   "cell_type": "markdown",
   "metadata": {
    "id": "4a2bJcMewV33"
   },
   "source": [
    "## 4.2 Columnas irrelevantes\n",
    "\n",
    "Una columna irrelevante puede ser:\n",
    "\n",
    "- **Una columna que no contiene información relevante para el problema que queremos resolver**. Por ejemplo en este caso podría ser una columna que no guarde relación con el posible perfil del cliente (deporte favorito, hobbies, comida favorita, etc.)\n",
    "- **Una columna categórica pero con un sólo nivel**. Por ejemplo si en la columna \"job\" solo tuviésemos el nivel \"unknown\".\n",
    "- **Una columna numérica pero con un sólo valor**. Por ejemplo si en la columna \"edad\" todos los vlaores fuesen iguales a 50.\n",
    "- **Columnas con información redundante**. Por ejemplo si además de las columnas \"month\" y \"day\" tuviésemos la columna \"month-day\", resultado de combinar las dos anteriores.\n",
    "\n",
    "Si tenemos la duda de si alguna columna puede ser relevante o no lo mejor es dejarla (y más adelante en posteriores etapas podremos darnos cuenta de si se debe preservar o no).\n",
    "\n",
    "En este caso todas las columnas pueden resultar relevantes, pero debemos verificar que no haya columnas categóricas con un sólo nivel, o columnas numéricas con un sólo valor:"
   ]
  },
  {
   "cell_type": "markdown",
   "metadata": {},
   "source": [
    "### 4.2.1 Checar si existen columnas con valores unicos\n",
    "\n",
    "Datos no numericos\n"
   ]
  },
  {
   "cell_type": "code",
   "execution_count": 12,
   "metadata": {
    "colab": {
     "base_uri": "https://localhost:8080/"
    },
    "executionInfo": {
     "elapsed": 17,
     "status": "ok",
     "timestamp": 1671183682436,
     "user": {
      "displayName": "Miguel Sotaquirá",
      "userId": "08038952820764930757"
     },
     "user_tz": 300
    },
    "id": "DpR6nqaWFfSf",
    "outputId": "4009395f-5e7e-4b3c-edcb-94e0ae93b710"
   },
   "outputs": [
    {
     "name": "stdout",
     "output_type": "stream",
     "text": [
      "_____________Columns\n",
      "Index(['age', 'job', 'marital', 'education', 'default', 'balance', 'housing',\n",
      "       'loan', 'contact', 'day', 'month', 'duration', 'campaign', 'pdays',\n",
      "       'previous', 'poutcome', 'y'],\n",
      "      dtype='object')\n",
      "_____________Array category\n",
      "['job', 'marital', 'education', 'default', 'housing', 'loan', 'contact', 'month', 'poutcome', 'y']\n",
      "_____________Check uniques\n",
      "Columna job: 18 subniveles\n",
      "Columna marital: 6 subniveles\n",
      "Columna education: 10 subniveles\n",
      "Columna default: 2 subniveles\n",
      "Columna housing: 2 subniveles\n",
      "Columna loan: 6 subniveles\n",
      "Columna contact: 5 subniveles\n",
      "Columna month: 12 subniveles\n",
      "Columna poutcome: 6 subniveles\n",
      "Columna y: 2 subniveles\n"
     ]
    }
   ],
   "source": [
    "# Conteo de los niveles en las diferentes columnas categóricas\n",
    "cols_cat = ['job', 'marital', 'education', 'default', 'housing',\n",
    "       'loan', 'contact', 'month', 'poutcome', 'y']\n",
    "print(\"_____________Columns\")\n",
    "print(data.columns)\n",
    "\n",
    "\n",
    "print(\"_____________Array category\")\n",
    "print(cols_cat)\n",
    "\n",
    "print(\"_____________Check uniques\")\n",
    "\n",
    "for col in cols_cat:\n",
    "  print(f'Columna {col}: {data[col].nunique()} subniveles')\n",
    "    "
   ]
  },
  {
   "cell_type": "markdown",
   "metadata": {
    "id": "pCw6dYMryt0O"
   },
   "source": [
    "Todas las columnas categóricas tienen más de 1 subnivel. No eliminaremos ninguna.\n",
    "\n",
    "Verifiquemos lo que ocurre con las columnas numéricas:"
   ]
  },
  {
   "cell_type": "markdown",
   "metadata": {},
   "source": [
    "### 4.2.1 Checar si existen columnas con valores unicos\n",
    "\n",
    "Datos numericos\n"
   ]
  },
  {
   "cell_type": "code",
   "execution_count": 13,
   "metadata": {
    "colab": {
     "base_uri": "https://localhost:8080/",
     "height": 300
    },
    "executionInfo": {
     "elapsed": 15,
     "status": "ok",
     "timestamp": 1671183682438,
     "user": {
      "displayName": "Miguel Sotaquirá",
      "userId": "08038952820764930757"
     },
     "user_tz": 300
    },
    "id": "KNPnGhhyG1Sk",
    "outputId": "746c1cf1-f60c-41c4-a972-c7d1d1f9aa44"
   },
   "outputs": [
    {
     "data": {
      "text/html": [
       "<div>\n",
       "<style scoped>\n",
       "    .dataframe tbody tr th:only-of-type {\n",
       "        vertical-align: middle;\n",
       "    }\n",
       "\n",
       "    .dataframe tbody tr th {\n",
       "        vertical-align: top;\n",
       "    }\n",
       "\n",
       "    .dataframe thead th {\n",
       "        text-align: right;\n",
       "    }\n",
       "</style>\n",
       "<table border=\"1\" class=\"dataframe\">\n",
       "  <thead>\n",
       "    <tr style=\"text-align: right;\">\n",
       "      <th></th>\n",
       "      <th>age</th>\n",
       "      <th>balance</th>\n",
       "      <th>day</th>\n",
       "      <th>duration</th>\n",
       "      <th>campaign</th>\n",
       "      <th>pdays</th>\n",
       "      <th>previous</th>\n",
       "    </tr>\n",
       "  </thead>\n",
       "  <tbody>\n",
       "    <tr>\n",
       "      <th>count</th>\n",
       "      <td>45207.000000</td>\n",
       "      <td>45207.000000</td>\n",
       "      <td>45207.000000</td>\n",
       "      <td>45207.000000</td>\n",
       "      <td>45207.000000</td>\n",
       "      <td>45207.000000</td>\n",
       "      <td>45207.000000</td>\n",
       "    </tr>\n",
       "    <tr>\n",
       "      <th>mean</th>\n",
       "      <td>41.005596</td>\n",
       "      <td>1374.201318</td>\n",
       "      <td>15.806534</td>\n",
       "      <td>258.032539</td>\n",
       "      <td>2.763731</td>\n",
       "      <td>40.178225</td>\n",
       "      <td>0.580198</td>\n",
       "    </tr>\n",
       "    <tr>\n",
       "      <th>std</th>\n",
       "      <td>12.037399</td>\n",
       "      <td>3924.491665</td>\n",
       "      <td>8.323015</td>\n",
       "      <td>257.460759</td>\n",
       "      <td>3.098058</td>\n",
       "      <td>100.103283</td>\n",
       "      <td>2.303341</td>\n",
       "    </tr>\n",
       "    <tr>\n",
       "      <th>min</th>\n",
       "      <td>18.000000</td>\n",
       "      <td>-8019.000000</td>\n",
       "      <td>1.000000</td>\n",
       "      <td>-1389.000000</td>\n",
       "      <td>1.000000</td>\n",
       "      <td>-1.000000</td>\n",
       "      <td>0.000000</td>\n",
       "    </tr>\n",
       "    <tr>\n",
       "      <th>25%</th>\n",
       "      <td>33.000000</td>\n",
       "      <td>72.000000</td>\n",
       "      <td>8.000000</td>\n",
       "      <td>103.000000</td>\n",
       "      <td>1.000000</td>\n",
       "      <td>-1.000000</td>\n",
       "      <td>0.000000</td>\n",
       "    </tr>\n",
       "    <tr>\n",
       "      <th>50%</th>\n",
       "      <td>39.000000</td>\n",
       "      <td>448.000000</td>\n",
       "      <td>16.000000</td>\n",
       "      <td>180.000000</td>\n",
       "      <td>2.000000</td>\n",
       "      <td>-1.000000</td>\n",
       "      <td>0.000000</td>\n",
       "    </tr>\n",
       "    <tr>\n",
       "      <th>75%</th>\n",
       "      <td>48.000000</td>\n",
       "      <td>1427.500000</td>\n",
       "      <td>21.000000</td>\n",
       "      <td>319.000000</td>\n",
       "      <td>3.000000</td>\n",
       "      <td>-1.000000</td>\n",
       "      <td>0.000000</td>\n",
       "    </tr>\n",
       "    <tr>\n",
       "      <th>max</th>\n",
       "      <td>776.000000</td>\n",
       "      <td>527532.000000</td>\n",
       "      <td>31.000000</td>\n",
       "      <td>4918.000000</td>\n",
       "      <td>63.000000</td>\n",
       "      <td>871.000000</td>\n",
       "      <td>275.000000</td>\n",
       "    </tr>\n",
       "  </tbody>\n",
       "</table>\n",
       "</div>"
      ],
      "text/plain": [
       "                age        balance           day      duration      campaign  \\\n",
       "count  45207.000000   45207.000000  45207.000000  45207.000000  45207.000000   \n",
       "mean      41.005596    1374.201318     15.806534    258.032539      2.763731   \n",
       "std       12.037399    3924.491665      8.323015    257.460759      3.098058   \n",
       "min       18.000000   -8019.000000      1.000000  -1389.000000      1.000000   \n",
       "25%       33.000000      72.000000      8.000000    103.000000      1.000000   \n",
       "50%       39.000000     448.000000     16.000000    180.000000      2.000000   \n",
       "75%       48.000000    1427.500000     21.000000    319.000000      3.000000   \n",
       "max      776.000000  527532.000000     31.000000   4918.000000     63.000000   \n",
       "\n",
       "              pdays      previous  \n",
       "count  45207.000000  45207.000000  \n",
       "mean      40.178225      0.580198  \n",
       "std      100.103283      2.303341  \n",
       "min       -1.000000      0.000000  \n",
       "25%       -1.000000      0.000000  \n",
       "50%       -1.000000      0.000000  \n",
       "75%       -1.000000      0.000000  \n",
       "max      871.000000    275.000000  "
      ]
     },
     "execution_count": 13,
     "metadata": {},
     "output_type": "execute_result"
    }
   ],
   "source": [
    "data.describe()"
   ]
  },
  {
   "cell_type": "markdown",
   "metadata": {
    "id": "o_ulm42Hy8nm"
   },
   "source": [
    "Todas las columnas numéricas tienen desviaciones estándar (\"std\") diferentes de cero, lo que indica que no tienen un único valor.\n",
    "\n",
    "Preservaremos todas las columnas numéricas."
   ]
  },
  {
   "cell_type": "markdown",
   "metadata": {
    "id": "WyPaJNZFzISZ"
   },
   "source": [
    "## 4.3 remover Filas repetidas con Drop_duplicates"
   ]
  },
  {
   "cell_type": "code",
   "execution_count": 16,
   "metadata": {
    "colab": {
     "base_uri": "https://localhost:8080/"
    },
    "executionInfo": {
     "elapsed": 14,
     "status": "ok",
     "timestamp": 1671183682439,
     "user": {
      "displayName": "Miguel Sotaquirá",
      "userId": "08038952820764930757"
     },
     "user_tz": 300
    },
    "id": "4U99PpRBG1-H",
    "outputId": "219195d5-f845-4e3f-af4c-411d2a8473e0"
   },
   "outputs": [
    {
     "name": "stdout",
     "output_type": "stream",
     "text": [
      "Tamaño del set antes de eliminar las filas repetidas: (45207, 17)\n",
      "Tamaño del set después de eliminar las filas repetidas: (45203, 17)\n"
     ]
    }
   ],
   "source": [
    "print(f'Tamaño del set antes de eliminar las filas repetidas: {data.shape}')\n",
    "data.drop_duplicates(inplace=True)\n",
    "print(f'Tamaño del set después de eliminar las filas repetidas: {data.shape}')"
   ]
  },
  {
   "cell_type": "markdown",
   "metadata": {
    "id": "vAdN5qxyzpRV"
   },
   "source": [
    "## 4.4 *Outliers* en las variables numéricas\n",
    "\n",
    "No siempre se deben eliminar los *outliers* porque dependiendo de la variable numérica analizada estos pueden contener información importante.\n",
    "\n",
    "Creemos gráficas tipo \"boxplot\" de las columnas numéricas:"
   ]
  },
  {
   "cell_type": "code",
   "execution_count": 19,
   "metadata": {
    "colab": {
     "base_uri": "https://localhost:8080/",
     "height": 1000
    },
    "executionInfo": {
     "elapsed": 1207,
     "status": "ok",
     "timestamp": 1671183683636,
     "user": {
      "displayName": "Miguel Sotaquirá",
      "userId": "08038952820764930757"
     },
     "user_tz": 300
    },
    "id": "QhiHlPFV0I02",
    "outputId": "2d2b9f56-8b8d-48f9-b1f1-4ca4da835920"
   },
   "outputs": [
    {
     "name": "stdout",
     "output_type": "stream",
     "text": [
      "age\n",
      "0\n",
      "balance\n",
      "1\n",
      "day\n",
      "2\n",
      "duration\n",
      "3\n",
      "campaign\n",
      "4\n",
      "pdays\n",
      "5\n",
      "previous\n",
      "6\n"
     ]
    },
    {
     "data": {
      "image/png": "[encoded data removed]",
      "text/plain": [
       "<Figure size 800x3000 with 7 Axes>"
      ]
     },
     "metadata": {},
     "output_type": "display_data"
    }
   ],
   "source": [
    "# Generar gráficas individuales pues las variables numéricas\n",
    "# están en rangos diferentes\n",
    "cols_num = ['age', 'balance', 'day', 'duration', 'campaign',\n",
    "            'pdays', 'previous']\n",
    "\n",
    "fig, ax = plt.subplots(nrows=7, ncols=1, figsize=(8,30))\n",
    "fig.subplots_adjust(hspace=0.5)\n",
    "\n",
    "for i, col in enumerate(cols_num):\n",
    "    sns.boxplot(x=col, data=data, ax=ax[i])\n",
    "    ax[i].set_title(col)\n",
    "    print(col)\n",
    "    print(i)\n"
   ]
  },
  {
   "cell_type": "markdown",
   "metadata": {
    "id": "PXp7xuqB2qs6"
   },
   "source": [
    "**Observaciones:**\n",
    "- \"age\": hay sujetos con edades mucho mayores a 100 años\n",
    "- \"duration\": hay valores negativos\n",
    "- \"previous\": hay un valor extremadamente alto (cercano a 300)\n",
    "\n",
    "**OJO** Aqui no se eliminan los registros lo que se hace es ugualar el set de datos con el valore resultante del filtro para optizar uso de memoria**"
   ]
  },
  {
   "cell_type": "code",
   "execution_count": 22,
   "metadata": {
    "colab": {
     "base_uri": "https://localhost:8080/"
    },
    "executionInfo": {
     "elapsed": 17,
     "status": "ok",
     "timestamp": 1671183683637,
     "user": {
      "displayName": "Miguel Sotaquirá",
      "userId": "08038952820764930757"
     },
     "user_tz": 300
    },
    "id": "EdX52H3x2qEp",
    "outputId": "1815cca0-0b2a-43b4-dae8-80ef00b5fcf6"
   },
   "outputs": [
    {
     "name": "stdout",
     "output_type": "stream",
     "text": [
      "Tamaño del set antes de eliminar registros de edad: (45190, 17)\n",
      "Tamaño del set después de eliminar registros de edad: (45190, 17)\n"
     ]
    }
   ],
   "source": [
    "# Eliminar filas con \"age\">100\n",
    "print(f'Tamaño del set antes de eliminar registros de edad: {data.shape}')\n",
    "data = data[data['age']<=100]\n",
    "print(f'Tamaño del set después de eliminar registros de edad: {data.shape}')"
   ]
  },
  {
   "cell_type": "code",
   "execution_count": 23,
   "metadata": {
    "colab": {
     "base_uri": "https://localhost:8080/"
    },
    "executionInfo": {
     "elapsed": 14,
     "status": "ok",
     "timestamp": 1671183683638,
     "user": {
      "displayName": "Miguel Sotaquirá",
      "userId": "08038952820764930757"
     },
     "user_tz": 300
    },
    "id": "mc5imiIA3uSI",
    "outputId": "12a36a9d-687c-4547-ad9d-add951a347c3"
   },
   "outputs": [
    {
     "name": "stdout",
     "output_type": "stream",
     "text": [
      "Tamaño del set antes de eliminar registros de duración: (45190, 17)\n",
      "Tamaño del set después de eliminar registros de duración: (45190, 17)\n"
     ]
    }
   ],
   "source": [
    "# Eliminar filas con \"duration\"<0\n",
    "print(f'Tamaño del set antes de eliminar registros de duración: {data.shape}')\n",
    "data = data[data['duration']>0]\n",
    "print(f'Tamaño del set después de eliminar registros de duración: {data.shape}')"
   ]
  },
  {
   "cell_type": "code",
   "execution_count": 24,
   "metadata": {
    "colab": {
     "base_uri": "https://localhost:8080/"
    },
    "executionInfo": {
     "elapsed": 12,
     "status": "ok",
     "timestamp": 1671183683639,
     "user": {
      "displayName": "Miguel Sotaquirá",
      "userId": "08038952820764930757"
     },
     "user_tz": 300
    },
    "id": "mtTOcbEn1b5X",
    "outputId": "41818347-b8ff-4b29-aa3a-033ea6f0198b"
   },
   "outputs": [
    {
     "name": "stdout",
     "output_type": "stream",
     "text": [
      "Tamaño del set antes de eliminar registros de previous: (45190, 17)\n",
      "Tamaño del set después de eliminar registros de previous: (45189, 17)\n"
     ]
    }
   ],
   "source": [
    "# Eliminar filas con \"previous\">100\n",
    "print(f'Tamaño del set antes de eliminar registros de previous: {data.shape}')\n",
    "data = data[data['previous']<=100]\n",
    "print(f'Tamaño del set después de eliminar registros de previous: {data.shape}')"
   ]
  },
  {
   "cell_type": "markdown",
   "metadata": {
    "id": "Ys8L2CGb4vWq"
   },
   "source": [
    "## 4.5 Errores tipográficos en variables categóricas\n",
    "\n",
    "En una variable categórica pueden aparecer sub-niveles como \"unknown\" y \"UNK\" que para nosotros son equivalentes pero que para nuestro programa parecerían diferentes.\n",
    "\n",
    "Se deben unificar estos sub-niveles"
   ]
  },
  {
   "cell_type": "markdown",
   "metadata": {
    "colab": {
     "base_uri": "https://localhost:8080/",
     "height": 1000
    },
    "executionInfo": {
     "elapsed": 2357,
     "status": "ok",
     "timestamp": 1671183685986,
     "user": {
      "displayName": "Miguel Sotaquirá",
      "userId": "08038952820764930757"
     },
     "user_tz": 300
    },
    "id": "Euf8w52C5K39",
    "outputId": "cd8ae513-02fd-40ad-b186-936371435abb"
   },
   "source": [
    "# Graficar los subniveles de cada variable categórica\n",
    "cols_cat = ['job', 'marital', 'education', 'default', 'housing',\n",
    "       'loan', 'contact', 'month', 'poutcome', 'y']\n",
    "\n",
    "fig, ax = plt.subplots(nrows=10, ncols=1, figsize=(10,30))\n",
    "fig.subplots_adjust(hspace=2)\n",
    "\n",
    "for i, col in enumerate(cols_cat):\n",
    "  sns.countplot(x=col, data=data, ax=ax[i])\n",
    "  ax[i].set_title(col)\n",
    "  ax[i].set_xticklabels(ax[i].get_xticklabels(),rotation=90)"
   ]
  },
  {
   "cell_type": "markdown",
   "metadata": {
    "id": "D1gBENL_5hW7"
   },
   "source": [
    "**NOTAS** Inicialmente se observa que hay sub-niveles con el mismo nombre pero escritos en minúscula, en mayúscula o con la primera letra en mayúscula.\n",
    "\n",
    "Unifiquemos estos sub-niveles inicialmente:"
   ]
  },
  {
   "cell_type": "raw",
   "metadata": {},
   "source": [
    "### Convertir todo a minusculas para reducir errores sintacticos"
   ]
  },
  {
   "cell_type": "code",
   "execution_count": 31,
   "metadata": {},
   "outputs": [],
   "source": [
    "for column in data.columns:\n",
    "    # Representar en minúsculas sólo si la columna es categórica\n",
    "    if column in cols_cat:\n",
    "        data[column] = data[column].str.lower()"
   ]
  },
  {
   "cell_type": "code",
   "execution_count": 33,
   "metadata": {
    "colab": {
     "base_uri": "https://localhost:8080/",
     "height": 1000
    },
    "executionInfo": {
     "elapsed": 1690,
     "status": "ok",
     "timestamp": 1671183687669,
     "user": {
      "displayName": "Miguel Sotaquirá",
      "userId": "08038952820764930757"
     },
     "user_tz": 300
    },
    "id": "PPYlABJz6f2u",
    "outputId": "fd95f922-f50c-468d-917f-b5a338e8508e",
    "scrolled": true
   },
   "outputs": [
    {
     "data": {
      "image/png": "[encoded data removed]",
      "text/plain": [
       "<Figure size 1000x3000 with 10 Axes>"
      ]
     },
     "metadata": {},
     "output_type": "display_data"
    }
   ],
   "source": [
    "# Y generemos las gráficas nuevamente\n",
    "fig, ax = plt.subplots(nrows=10, ncols=1, figsize=(10,30))\n",
    "fig.subplots_adjust(hspace=1)\n",
    "\n",
    "for i, col in enumerate(cols_cat):\n",
    "  sns.countplot(x=col, data=data, ax=ax[i])\n",
    "  ax[i].set_title(col)\n",
    "  ax[i].set_xticklabels(ax[i].get_xticklabels(),rotation=90)"
   ]
  },
  {
   "cell_type": "code",
   "execution_count": 34,
   "metadata": {
    "colab": {
     "base_uri": "https://localhost:8080/"
    },
    "executionInfo": {
     "elapsed": 26,
     "status": "ok",
     "timestamp": 1671183687670,
     "user": {
      "displayName": "Miguel Sotaquirá",
      "userId": "08038952820764930757"
     },
     "user_tz": 300
    },
    "id": "uSESKHcD67bx",
    "outputId": "474e0cc3-60da-4981-89f1-2cc1fe3fbf93"
   },
   "outputs": [
    {
     "name": "stdout",
     "output_type": "stream",
     "text": [
      "['management' 'technician' 'entrepreneur' 'blue-collar' 'unknown'\n",
      " 'retired' 'admin.' 'services' 'self-employed' 'unemployed' 'housemaid'\n",
      " 'student' 'administrative']\n",
      "['management' 'technician' 'entrepreneur' 'blue-collar' 'unknown'\n",
      " 'retired' 'administrative' 'services' 'self-employed' 'unemployed'\n",
      " 'housemaid' 'student']\n"
     ]
    }
   ],
   "source": [
    "# job: unificar admin. y administrative\n",
    "print(data['job'].unique())\n",
    "data['job'] = data['job'].str.replace('admin.','administrative', regex=False)\n",
    "print(data['job'].unique())"
   ]
  },
  {
   "cell_type": "code",
   "execution_count": 36,
   "metadata": {
    "colab": {
     "base_uri": "https://localhost:8080/"
    },
    "executionInfo": {
     "elapsed": 23,
     "status": "ok",
     "timestamp": 1671183687670,
     "user": {
      "displayName": "Miguel Sotaquirá",
      "userId": "08038952820764930757"
     },
     "user_tz": 300
    },
    "id": "Pyc3HuMZ8S3j",
    "outputId": "e3c079b6-8d74-412b-fea9-aed35e02e009"
   },
   "outputs": [
    {
     "name": "stdout",
     "output_type": "stream",
     "text": [
      "['married' 'single' 'divorced']\n",
      "['married' 'single' 'divorced']\n"
     ]
    }
   ],
   "source": [
    "# marital: unificar div. y divorced\n",
    "print(data['marital'].unique())\n",
    "data['marital'] = data['marital'].str.replace('div.','divorced', regex=False)\n",
    "print(data['marital'].unique())"
   ]
  },
  {
   "cell_type": "code",
   "execution_count": 41,
   "metadata": {
    "colab": {
     "base_uri": "https://localhost:8080/"
    },
    "executionInfo": {
     "elapsed": 20,
     "status": "ok",
     "timestamp": 1671183687671,
     "user": {
      "displayName": "Miguel Sotaquirá",
      "userId": "08038952820764930757"
     },
     "user_tz": 300
    },
    "id": "KyoDsJeI-BMV",
    "outputId": "259da277-68c8-4333-e25e-0710ca291f48"
   },
   "outputs": [
    {
     "name": "stdout",
     "output_type": "stream",
     "text": [
      "['tertiary' 'secondary' 'unknown' 'primary']\n",
      "['tertiary' 'secondary' 'unknown' 'primary']\n"
     ]
    }
   ],
   "source": [
    "# education: unificar sec. y secondary, unk y unknown\n",
    "print(data['education'].unique())\n",
    "data['education'] = data['education'].str.replace('sec.','secondary', regex=False)\n",
    "data.loc[data['education']=='unk','education'] = 'unknown'\n",
    "print(data['education'].unique())"
   ]
  },
  {
   "cell_type": "code",
   "execution_count": 39,
   "metadata": {
    "colab": {
     "base_uri": "https://localhost:8080/"
    },
    "executionInfo": {
     "elapsed": 16,
     "status": "ok",
     "timestamp": 1671183687671,
     "user": {
      "displayName": "Miguel Sotaquirá",
      "userId": "08038952820764930757"
     },
     "user_tz": 300
    },
    "id": "hxzP331D_sMN",
    "outputId": "4bfe38e9-8df7-4a68-9e27-cfee1be57eb9"
   },
   "outputs": [
    {
     "name": "stdout",
     "output_type": "stream",
     "text": [
      "['unknown' 'cellular' 'telephone']\n",
      "['unknown' 'cellular' 'telephone']\n"
     ]
    }
   ],
   "source": [
    "# contact: unificar telephone y phone\n",
    "print(data['contact'].unique())\n",
    "data.loc[data['contact']=='phone','contact'] = 'telephone'\n",
    "data.loc[data['contact']=='mobile','contact'] = 'cellular'\n",
    "print(data['contact'].unique())"
   ]
  },
  {
   "cell_type": "code",
   "execution_count": 43,
   "metadata": {
    "colab": {
     "base_uri": "https://localhost:8080/"
    },
    "executionInfo": {
     "elapsed": 15,
     "status": "ok",
     "timestamp": 1671183687672,
     "user": {
      "displayName": "Miguel Sotaquirá",
      "userId": "08038952820764930757"
     },
     "user_tz": 300
    },
    "id": "24zBZHfi_-VT",
    "outputId": "cbc57aa0-e4d2-4f38-93c7-d7028ae5a2f9"
   },
   "outputs": [
    {
     "name": "stdout",
     "output_type": "stream",
     "text": [
      "['unknown' 'failure' 'other' 'success']\n",
      "['unknown' 'failure' 'other' 'success']\n"
     ]
    }
   ],
   "source": [
    "# poutcome: unificar unk y unknown\n",
    "print(data['poutcome'].unique())\n",
    "data.loc[data['poutcome']=='unk','poutcome']='unknown'\n",
    "print(data['poutcome'].unique())"
   ]
  },
  {
   "cell_type": "code",
   "execution_count": 44,
   "metadata": {
    "colab": {
     "base_uri": "https://localhost:8080/"
    },
    "executionInfo": {
     "elapsed": 13,
     "status": "ok",
     "timestamp": 1671183687673,
     "user": {
      "displayName": "Miguel Sotaquirá",
      "userId": "08038952820764930757"
     },
     "user_tz": 300
    },
    "id": "6rUd2kpuAJqt",
    "outputId": "f6420f3a-94c1-4980-8288-4900a7b71fb9"
   },
   "outputs": [
    {
     "data": {
      "text/plain": [
       "(45189, 17)"
      ]
     },
     "execution_count": 44,
     "metadata": {},
     "output_type": "execute_result"
    }
   ],
   "source": [
    "data.shape"
   ]
  },
  {
   "cell_type": "markdown",
   "metadata": {
    "id": "wgOD_fSUAIOt"
   },
   "source": [
    "¡Y listo, ya hemos realizado la limpieza de nuestro set de datos!\n",
    "\n",
    "Originalmente tenía 45.215 registros y 17 columnas. El dataset resultante tiene 45.189 filas (26 menos) y 17 columnas.\n",
    "\n",
    "El set de datos ya está listo para el Análisis Exploratorio."
   ]
  },
  {
   "cell_type": "code",
   "execution_count": 45,
   "metadata": {
    "executionInfo": {
     "elapsed": 227,
     "status": "ok",
     "timestamp": 1671183687889,
     "user": {
      "displayName": "Miguel Sotaquirá",
      "userId": "08038952820764930757"
     },
     "user_tz": 300
    },
    "id": "s90V96SlBOL0"
   },
   "outputs": [],
   "source": [
    "ruta = \"../datos/dataset_banco_clean.csv\"\n",
    "data.to_csv(ruta, index=False)"
   ]
  }
 ],
 "metadata": {
  "colab": {
   "authorship_tag": "ABX9TyNg0Scy3dstBWPaRKioT8Mx",
   "provenance": []
  },
  "kernelspec": {
   "display_name": "Python 3 (ipykernel)",
   "language": "python",
   "name": "python3"
  },
  "language_info": {
   "codemirror_mode": {
    "name": "ipython",
    "version": 3
   },
   "file_extension": ".py",
   "mimetype": "text/x-python",
   "name": "python",
   "nbconvert_exporter": "python",
   "pygments_lexer": "ipython3",
   "version": "3.11.4"
  }
 },
 "nbformat": 4,
 "nbformat_minor": 4
}
