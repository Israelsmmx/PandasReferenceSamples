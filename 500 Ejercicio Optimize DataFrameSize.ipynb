{
 "cells": [
  {
   "cell_type": "markdown",
   "metadata": {},
   "source": [
    "# playing with big files that comes from SAP"
   ]
  },
  {
   "cell_type": "code",
   "execution_count": 1,
   "metadata": {},
   "outputs": [],
   "source": [
    "import pandas as pd\n",
    "\n",
    "import matplotlib.pyplot as plt\n",
    "import seaborn as sns\n",
    "\n",
    "M_tables = pd.read_csv(\"../datos/sap/M_TABLES.csv\", index_col=0)"
   ]
  },
  {
   "cell_type": "code",
   "execution_count": 2,
   "metadata": {},
   "outputs": [],
   "source": [
    "_sysid = \"SAPX58\""
   ]
  },
  {
   "cell_type": "code",
   "execution_count": 3,
   "metadata": {},
   "outputs": [
    {
     "data": {
      "text/html": [
       "<div>\n",
       "<style scoped>\n",
       "    .dataframe tbody tr th:only-of-type {\n",
       "        vertical-align: middle;\n",
       "    }\n",
       "\n",
       "    .dataframe tbody tr th {\n",
       "        vertical-align: top;\n",
       "    }\n",
       "\n",
       "    .dataframe thead th {\n",
       "        text-align: right;\n",
       "    }\n",
       "</style>\n",
       "<table border=\"1\" class=\"dataframe\">\n",
       "  <thead>\n",
       "    <tr style=\"text-align: right;\">\n",
       "      <th></th>\n",
       "      <th>SCHEMA_NAME</th>\n",
       "      <th>TABLE_NAME</th>\n",
       "      <th>RECORD_COUNT</th>\n",
       "      <th>TABLE_SIZE</th>\n",
       "      <th>IS_COLUMN_TABLE</th>\n",
       "      <th>TABLE_TYPE</th>\n",
       "      <th>IS_PARTITIONED</th>\n",
       "      <th>IS_REPLICATED</th>\n",
       "      <th>HAS_RECORD_COMMIT_TIMESTAMP</th>\n",
       "    </tr>\n",
       "  </thead>\n",
       "  <tbody>\n",
       "    <tr>\n",
       "      <th>0</th>\n",
       "      <td>SYS</td>\n",
       "      <td>_SYS_SS_TBL_15805805_RET</td>\n",
       "      <td>0</td>\n",
       "      <td>0</td>\n",
       "      <td>False</td>\n",
       "      <td>ROW</td>\n",
       "      <td>False</td>\n",
       "      <td>False</td>\n",
       "      <td>False</td>\n",
       "    </tr>\n",
       "    <tr>\n",
       "      <th>1</th>\n",
       "      <td>SYS</td>\n",
       "      <td>_SYS_SS_TBL_15805819_RET</td>\n",
       "      <td>0</td>\n",
       "      <td>0</td>\n",
       "      <td>False</td>\n",
       "      <td>ROW</td>\n",
       "      <td>False</td>\n",
       "      <td>False</td>\n",
       "      <td>False</td>\n",
       "    </tr>\n",
       "    <tr>\n",
       "      <th>2</th>\n",
       "      <td>_SYS_BIC</td>\n",
       "      <td>sap.hana.modules.FIN/CV_LFIAO0001_IEPS_MD_VEND...</td>\n",
       "      <td>0</td>\n",
       "      <td>0</td>\n",
       "      <td>False</td>\n",
       "      <td>ROW</td>\n",
       "      <td>False</td>\n",
       "      <td>False</td>\n",
       "      <td>False</td>\n",
       "    </tr>\n",
       "    <tr>\n",
       "      <th>3</th>\n",
       "      <td>SYS</td>\n",
       "      <td>_SYS_SS2_ITV_ALL_PARAMETERS_15805857_TBL</td>\n",
       "      <td>0</td>\n",
       "      <td>0</td>\n",
       "      <td>False</td>\n",
       "      <td>ROW</td>\n",
       "      <td>False</td>\n",
       "      <td>False</td>\n",
       "      <td>False</td>\n",
       "    </tr>\n",
       "    <tr>\n",
       "      <th>4</th>\n",
       "      <td>SYS</td>\n",
       "      <td>_SYS_SS2_ITV_TABLE_PARAMETERS_15805857_TBL</td>\n",
       "      <td>0</td>\n",
       "      <td>0</td>\n",
       "      <td>False</td>\n",
       "      <td>ROW</td>\n",
       "      <td>False</td>\n",
       "      <td>False</td>\n",
       "      <td>False</td>\n",
       "    </tr>\n",
       "    <tr>\n",
       "      <th>...</th>\n",
       "      <td>...</td>\n",
       "      <td>...</td>\n",
       "      <td>...</td>\n",
       "      <td>...</td>\n",
       "      <td>...</td>\n",
       "      <td>...</td>\n",
       "      <td>...</td>\n",
       "      <td>...</td>\n",
       "      <td>...</td>\n",
       "    </tr>\n",
       "    <tr>\n",
       "      <th>100009</th>\n",
       "      <td>SAPX58</td>\n",
       "      <td>WDR_TEST_SOALPHA</td>\n",
       "      <td>0</td>\n",
       "      <td>1328</td>\n",
       "      <td>True</td>\n",
       "      <td>COLUMN</td>\n",
       "      <td>False</td>\n",
       "      <td>False</td>\n",
       "      <td>False</td>\n",
       "    </tr>\n",
       "    <tr>\n",
       "      <th>100010</th>\n",
       "      <td>SAPX58</td>\n",
       "      <td>WDY_CHIP_PORTT</td>\n",
       "      <td>1045</td>\n",
       "      <td>143407</td>\n",
       "      <td>True</td>\n",
       "      <td>COLUMN</td>\n",
       "      <td>False</td>\n",
       "      <td>False</td>\n",
       "      <td>False</td>\n",
       "    </tr>\n",
       "    <tr>\n",
       "      <th>100011</th>\n",
       "      <td>SAPX58</td>\n",
       "      <td>WDY_UI_ENUM_VALT</td>\n",
       "      <td>358</td>\n",
       "      <td>117453</td>\n",
       "      <td>True</td>\n",
       "      <td>COLUMN</td>\n",
       "      <td>False</td>\n",
       "      <td>False</td>\n",
       "      <td>False</td>\n",
       "    </tr>\n",
       "    <tr>\n",
       "      <th>100012</th>\n",
       "      <td>SAPX58</td>\n",
       "      <td>WEB_COOKIE</td>\n",
       "      <td>0</td>\n",
       "      <td>1328</td>\n",
       "      <td>True</td>\n",
       "      <td>COLUMN</td>\n",
       "      <td>False</td>\n",
       "      <td>False</td>\n",
       "      <td>False</td>\n",
       "    </tr>\n",
       "    <tr>\n",
       "      <th>100013</th>\n",
       "      <td>SAPX58</td>\n",
       "      <td>WP3ROLEDEFLONG</td>\n",
       "      <td>0</td>\n",
       "      <td>1328</td>\n",
       "      <td>True</td>\n",
       "      <td>COLUMN</td>\n",
       "      <td>False</td>\n",
       "      <td>False</td>\n",
       "      <td>False</td>\n",
       "    </tr>\n",
       "  </tbody>\n",
       "</table>\n",
       "<p>100014 rows × 9 columns</p>\n",
       "</div>"
      ],
      "text/plain": [
       "       SCHEMA_NAME                                         TABLE_NAME  \\\n",
       "0              SYS                           _SYS_SS_TBL_15805805_RET   \n",
       "1              SYS                           _SYS_SS_TBL_15805819_RET   \n",
       "2         _SYS_BIC  sap.hana.modules.FIN/CV_LFIAO0001_IEPS_MD_VEND...   \n",
       "3              SYS           _SYS_SS2_ITV_ALL_PARAMETERS_15805857_TBL   \n",
       "4              SYS         _SYS_SS2_ITV_TABLE_PARAMETERS_15805857_TBL   \n",
       "...            ...                                                ...   \n",
       "100009      SAPX58                                   WDR_TEST_SOALPHA   \n",
       "100010      SAPX58                                     WDY_CHIP_PORTT   \n",
       "100011      SAPX58                                   WDY_UI_ENUM_VALT   \n",
       "100012      SAPX58                                         WEB_COOKIE   \n",
       "100013      SAPX58                                     WP3ROLEDEFLONG   \n",
       "\n",
       "        RECORD_COUNT  TABLE_SIZE  IS_COLUMN_TABLE TABLE_TYPE  IS_PARTITIONED  \\\n",
       "0                  0           0            False        ROW           False   \n",
       "1                  0           0            False        ROW           False   \n",
       "2                  0           0            False        ROW           False   \n",
       "3                  0           0            False        ROW           False   \n",
       "4                  0           0            False        ROW           False   \n",
       "...              ...         ...              ...        ...             ...   \n",
       "100009             0        1328             True     COLUMN           False   \n",
       "100010          1045      143407             True     COLUMN           False   \n",
       "100011           358      117453             True     COLUMN           False   \n",
       "100012             0        1328             True     COLUMN           False   \n",
       "100013             0        1328             True     COLUMN           False   \n",
       "\n",
       "        IS_REPLICATED  HAS_RECORD_COMMIT_TIMESTAMP  \n",
       "0               False                        False  \n",
       "1               False                        False  \n",
       "2               False                        False  \n",
       "3               False                        False  \n",
       "4               False                        False  \n",
       "...               ...                          ...  \n",
       "100009          False                        False  \n",
       "100010          False                        False  \n",
       "100011          False                        False  \n",
       "100012          False                        False  \n",
       "100013          False                        False  \n",
       "\n",
       "[100014 rows x 9 columns]"
      ]
     },
     "execution_count": 3,
     "metadata": {},
     "output_type": "execute_result"
    }
   ],
   "source": [
    "M_tables"
   ]
  },
  {
   "cell_type": "code",
   "execution_count": 4,
   "metadata": {},
   "outputs": [],
   "source": [
    "M_tables[\"TABLE_SIZE\"] = M_tables[\"TABLE_SIZE\"] /1024 /1024"
   ]
  },
  {
   "cell_type": "code",
   "execution_count": 5,
   "metadata": {},
   "outputs": [],
   "source": [
    "M_tables = M_tables[M_tables[\"SCHEMA_NAME\"] == _sysid]"
   ]
  },
  {
   "cell_type": "code",
   "execution_count": 6,
   "metadata": {},
   "outputs": [],
   "source": [
    "_COLUMN_TABLE = M_tables[(M_tables[\"IS_COLUMN_TABLE\"] == True) & (M_tables[\"SCHEMA_NAME\"] == _sysid)]\n",
    "_ROW_TABLE = M_tables[(M_tables[\"IS_COLUMN_TABLE\"] == False) & (M_tables[\"SCHEMA_NAME\"] == _sysid)]"
   ]
  },
  {
   "cell_type": "code",
   "execution_count": 7,
   "metadata": {},
   "outputs": [
    {
     "data": {
      "text/plain": [
       "SCHEMA_NAME                    97866\n",
       "TABLE_NAME                     97866\n",
       "RECORD_COUNT                   97866\n",
       "TABLE_SIZE                     97866\n",
       "IS_COLUMN_TABLE                97866\n",
       "TABLE_TYPE                     97866\n",
       "IS_PARTITIONED                 97866\n",
       "IS_REPLICATED                  97866\n",
       "HAS_RECORD_COMMIT_TIMESTAMP    97866\n",
       "dtype: int64"
      ]
     },
     "execution_count": 7,
     "metadata": {},
     "output_type": "execute_result"
    }
   ],
   "source": [
    "_COLUMN_TABLE.count()"
   ]
  },
  {
   "cell_type": "code",
   "execution_count": 8,
   "metadata": {},
   "outputs": [
    {
     "data": {
      "text/plain": [
       "SCHEMA_NAME                    837\n",
       "TABLE_NAME                     837\n",
       "RECORD_COUNT                   837\n",
       "TABLE_SIZE                     837\n",
       "IS_COLUMN_TABLE                837\n",
       "TABLE_TYPE                     837\n",
       "IS_PARTITIONED                 837\n",
       "IS_REPLICATED                  837\n",
       "HAS_RECORD_COMMIT_TIMESTAMP    837\n",
       "dtype: int64"
      ]
     },
     "execution_count": 8,
     "metadata": {},
     "output_type": "execute_result"
    }
   ],
   "source": [
    "_ROW_TABLE.count()"
   ]
  }
 ],
 "metadata": {
  "kernelspec": {
   "display_name": "Python 3 (ipykernel)",
   "language": "python",
   "name": "python3"
  },
  "language_info": {
   "codemirror_mode": {
    "name": "ipython",
    "version": 3
   },
   "file_extension": ".py",
   "mimetype": "text/x-python",
   "name": "python",
   "nbconvert_exporter": "python",
   "pygments_lexer": "ipython3",
   "version": "3.11.4"
  }
 },
 "nbformat": 4,
 "nbformat_minor": 4
}
